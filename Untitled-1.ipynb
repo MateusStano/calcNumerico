{
 "cells": [
  {
   "cell_type": "code",
   "execution_count": 9,
   "metadata": {},
   "outputs": [],
   "source": [
    "from rocketpy import Function\n",
    "import numpy as np"
   ]
  },
  {
   "cell_type": "markdown",
   "metadata": {},
   "source": [
    "Decomposição LU"
   ]
  },
  {
   "cell_type": "code",
   "execution_count": 2,
   "metadata": {},
   "outputs": [],
   "source": [
    "# Decompõe uma matriz quadrada de dimensão n na for A = LU\n",
    "def LU(A):\n",
    "    # Dimensão n da matriz A\n",
    "    n = A.shape[0]\n",
    "\n",
    "    # Inicializa matrizes L e U\n",
    "    L = np.identity(n,dtype=np.float64)\n",
    "    U = np.zeros((n,n),dtype=np.float64)\n",
    "    \n",
    "    # Calcula U e L\n",
    "    for i in range(n):\n",
    "        U[i,i:] = A[i,i:] - L[i,:i] @ U[:i,i:]\n",
    "        L[(i+1):,i] = (1/U[i,i]) * (A[(i+1):,i] - L[(i+1):,:] @ U[:,i])\n",
    "        \n",
    "    return U, L"
   ]
  },
  {
   "cell_type": "markdown",
   "metadata": {},
   "source": [
    "Decompósição LU para matrizes tridiagonais"
   ]
  },
  {
   "cell_type": "code",
   "execution_count": 3,
   "metadata": {},
   "outputs": [],
   "source": [
    "# Decompõe uma matriz tridiagonal quadrada de dimensão n na for A = LU\n",
    "def decompoeMatrizTridiag(A):\n",
    "    # Dimensão n da matriz A\n",
    "    n = A.shape[0]\n",
    "\n",
    "    # Define os vetores das diagonais\n",
    "\n",
    "    # Diagonal secundaria abaixo da principal\n",
    "    a = [A[i+1][i] for i in range(n-1)]\n",
    "    a = [0] + a # Adiciona 0 a primeiro item do vetor\n",
    "\n",
    "    # Diagonal principal\n",
    "    b = [A[i][i] for i in range(n)]\n",
    "\n",
    "    # Diagonal secundaria acima da principal\n",
    "    c = [A[i][i+1] for i in range(n-1)]\n",
    "    c = c + [0] # Adiciona 0 ao fim do vetor\n",
    "\n",
    "    return a,b,c"
   ]
  },
  {
   "cell_type": "code",
   "execution_count": 4,
   "metadata": {},
   "outputs": [],
   "source": [
    "# Resolve sistema tridiagonais\n",
    "def sistemaTridiagLU(A, d):\n",
    "    # Dimensão de A\n",
    "    n = A.shape[0]\n",
    "\n",
    "    # Define diagonais a, b e c\n",
    "    a, b, c = decompoeMatrizTridiag(A)\n",
    "\n",
    "    # Calcula vetores u e l\n",
    "    u = [b[0]]\n",
    "    l = []\n",
    "    for i in range(1, n):\n",
    "        l.append(a[i] / u[i - 1])\n",
    "        u.append(b[i] - l[i - 1] * c[i - 1])\n",
    "\n",
    "    # Calcula solução de L*y = d\n",
    "    y = [d[0]]\n",
    "    for i in range(1, n):\n",
    "        y.append(d[i] - l[i - 1] * y[i - 1])\n",
    "\n",
    "    # Calcula solução de U*x = y\n",
    "    x = [0] * n\n",
    "    x[n - 1] = y[n - 1] / u[n - 1]\n",
    "    for i in reversed(range(0, n - 1)):\n",
    "        x[i] = (y[i] - c[i] * x[i + 1]) / u[i]\n",
    "\n",
    "    return x"
   ]
  },
  {
   "cell_type": "code",
   "execution_count": 15,
   "metadata": {},
   "outputs": [
    {
     "data": {
      "text/plain": [
       "[-1.0, 1.5, -1.5000000000000002, 6.0, -6.499999999999999, 6.249999999999999]"
      ]
     },
     "execution_count": 15,
     "metadata": {},
     "output_type": "execute_result"
    }
   ],
   "source": [
    "A = np.array([[5,4,0,0,0,0],[1,3,1,0,0,0],[0,2,4,1,0,0],[0,0,1,2,1,0],[0,0,0,2,3,2],[0,0,0,0,1,2]])\n",
    "y = np.array([1,2,3,4,5,6])\n",
    "sistemaTridiagLU(A,y)"
   ]
  },
  {
   "cell_type": "code",
   "execution_count": 31,
   "metadata": {},
   "outputs": [],
   "source": [
    "# Cria matriz tridiagonal circular a partir dos vetores que definem suas diagonais\n",
    "def criaMatrizTridiagCiclico(a,b,c):\n",
    "    # Dimensão n da matriz\n",
    "    n = len(b)\n",
    "\n",
    "    # Inicializa matriz de dimensão n\n",
    "    A = np.zeros((n,n),dtype=np.float64)\n",
    "\n",
    "    # Constrõe a matriz a partir de a,b e c\n",
    "    for i in range(n):\n",
    "        if i == 0:\n",
    "            A[i][n-1]=a[i]\n",
    "        else:\n",
    "            A[i][i-1]=a[i]\n",
    "        A[i][i]=b[i]\n",
    "        if i == n-1:\n",
    "            A[i][0]=c[i]    \n",
    "        else:\n",
    "            A[i][i+1]=c[i]\n",
    "            \n",
    "    return A"
   ]
  },
  {
   "cell_type": "code",
   "execution_count": 38,
   "metadata": {},
   "outputs": [],
   "source": [
    "# Resolve sistemas tridiagonais ciclicos\n",
    "def sistemaTridiagCiclico(a, b, c, d):\n",
    "    n = len(b)\n",
    "\n",
    "    # Constroi matriz A a partir de a,b e c\n",
    "    A = criaMatrizTridiagCiclico(a, b, c)\n",
    "\n",
    "    # Constroi submatriz principal T\n",
    "    T = np.delete(A, n - 1, 1)\n",
    "    T = np.delete(T, n - 1, 0)\n",
    "\n",
    "    # Constroi v\n",
    "    v = [0] * n\n",
    "    v[0] = a[0]\n",
    "    v[-1] = c[n - 2]\n",
    "\n",
    "    # Resolve sistema Ty=d\n",
    "    y = sistemaTridiagLU(T, d)\n",
    "\n",
    "    # Resolve sistema Tz=v\n",
    "    z = sistemaTridiagLU(T, v)\n",
    "\n",
    "    # Solução do sistema\n",
    "    x = [0] * n\n",
    "    \n",
    "    # Calcula xn\n",
    "    x[n-1] = (d[(n-1)] - c[(n-1)] * y[0] - a[(n-1)] * y[(n-1) - 1]) / (\n",
    "            b[(n-1)] - c[(n-1)] * z[0] - a[(n-1)] * z[(n-1) - 1]\n",
    "        )\n",
    "    # Calcula os valores de x restantes\n",
    "    for i in range(n-1):\n",
    "        x[i] = y[i] - x[n-1] * z[i]\n",
    "\n",
    "    return x, A\n"
   ]
  },
  {
   "cell_type": "code",
   "execution_count": 44,
   "metadata": {},
   "outputs": [],
   "source": [
    "n = 20\n",
    "a=np.zeros(n)\n",
    "b=np.zeros(n)\n",
    "c=np.zeros(n)\n",
    "d=np.zeros(n)\n",
    "for i in range(n):\n",
    "    a[i] = (2*(i+1)-1)/(4*(i+1)) if (i+1) != n else (2*(i+1)-1)/(2*(i+1))\n",
    "    c[i] = 1-a[i]\n",
    "    b[i] = 2\n",
    "    d[i] = np.cos((2*np.pi*(i+1)**2)/(n**2))"
   ]
  },
  {
   "cell_type": "code",
   "execution_count": 45,
   "metadata": {},
   "outputs": [
    {
     "name": "stdout",
     "output_type": "stream",
     "text": [
      "a:  [0.25       0.375      0.41666667 0.4375     0.45       0.45833333\n",
      " 0.46428571 0.46875    0.47222222 0.475      0.47727273 0.47916667\n",
      " 0.48076923 0.48214286 0.48333333 0.484375   0.48529412 0.48611111\n",
      " 0.48684211 0.975     ]\n",
      "b:  [2. 2. 2. 2. 2. 2. 2. 2. 2. 2. 2. 2. 2. 2. 2. 2. 2. 2. 2. 2.]\n",
      "c:  [0.75       0.625      0.58333333 0.5625     0.55       0.54166667\n",
      " 0.53571429 0.53125    0.52777778 0.525      0.52272727 0.52083333\n",
      " 0.51923077 0.51785714 0.51666667 0.515625   0.51470588 0.51388889\n",
      " 0.51315789 0.025     ]\n",
      "d:  [ 9.99876632e-01  9.98026728e-01  9.90023658e-01  9.68583161e-01\n",
      "  9.23879533e-01  8.44327926e-01  7.18126298e-01  5.35826795e-01\n",
      "  2.94040325e-01  6.12323400e-17 -3.23917418e-01 -6.37423990e-01\n",
      " -8.83765630e-01 -9.98026728e-01 -9.23879533e-01 -6.37423990e-01\n",
      " -1.71929100e-01  3.68124553e-01  8.18149717e-01  1.00000000e+00]\n"
     ]
    }
   ],
   "source": [
    "print(\"a: \", a)\n",
    "print(\"b: \", b)\n",
    "print(\"c: \", c)\n",
    "print(\"d: \", d)"
   ]
  },
  {
   "cell_type": "code",
   "execution_count": 46,
   "metadata": {},
   "outputs": [],
   "source": [
    "x, A = sistemaTridiagCiclico(a,b,c,d)"
   ]
  },
  {
   "cell_type": "code",
   "execution_count": 47,
   "metadata": {},
   "outputs": [
    {
     "name": "stdout",
     "output_type": "stream",
     "text": [
      "Matriz A: \n",
      "[[2.         0.75       0.         0.         0.         0.\n",
      "  0.         0.         0.         0.         0.         0.\n",
      "  0.         0.         0.         0.         0.         0.\n",
      "  0.         0.25      ]\n",
      " [0.375      2.         0.625      0.         0.         0.\n",
      "  0.         0.         0.         0.         0.         0.\n",
      "  0.         0.         0.         0.         0.         0.\n",
      "  0.         0.        ]\n",
      " [0.         0.41666667 2.         0.58333333 0.         0.\n",
      "  0.         0.         0.         0.         0.         0.\n",
      "  0.         0.         0.         0.         0.         0.\n",
      "  0.         0.        ]\n",
      " [0.         0.         0.4375     2.         0.5625     0.\n",
      "  0.         0.         0.         0.         0.         0.\n",
      "  0.         0.         0.         0.         0.         0.\n",
      "  0.         0.        ]\n",
      " [0.         0.         0.         0.45       2.         0.55\n",
      "  0.         0.         0.         0.         0.         0.\n",
      "  0.         0.         0.         0.         0.         0.\n",
      "  0.         0.        ]\n",
      " [0.         0.         0.         0.         0.45833333 2.\n",
      "  0.54166667 0.         0.         0.         0.         0.\n",
      "  0.         0.         0.         0.         0.         0.\n",
      "  0.         0.        ]\n",
      " [0.         0.         0.         0.         0.         0.46428571\n",
      "  2.         0.53571429 0.         0.         0.         0.\n",
      "  0.         0.         0.         0.         0.         0.\n",
      "  0.         0.        ]\n",
      " [0.         0.         0.         0.         0.         0.\n",
      "  0.46875    2.         0.53125    0.         0.         0.\n",
      "  0.         0.         0.         0.         0.         0.\n",
      "  0.         0.        ]\n",
      " [0.         0.         0.         0.         0.         0.\n",
      "  0.         0.47222222 2.         0.52777778 0.         0.\n",
      "  0.         0.         0.         0.         0.         0.\n",
      "  0.         0.        ]\n",
      " [0.         0.         0.         0.         0.         0.\n",
      "  0.         0.         0.475      2.         0.525      0.\n",
      "  0.         0.         0.         0.         0.         0.\n",
      "  0.         0.        ]\n",
      " [0.         0.         0.         0.         0.         0.\n",
      "  0.         0.         0.         0.47727273 2.         0.52272727\n",
      "  0.         0.         0.         0.         0.         0.\n",
      "  0.         0.        ]\n",
      " [0.         0.         0.         0.         0.         0.\n",
      "  0.         0.         0.         0.         0.47916667 2.\n",
      "  0.52083333 0.         0.         0.         0.         0.\n",
      "  0.         0.        ]\n",
      " [0.         0.         0.         0.         0.         0.\n",
      "  0.         0.         0.         0.         0.         0.48076923\n",
      "  2.         0.51923077 0.         0.         0.         0.\n",
      "  0.         0.        ]\n",
      " [0.         0.         0.         0.         0.         0.\n",
      "  0.         0.         0.         0.         0.         0.\n",
      "  0.48214286 2.         0.51785714 0.         0.         0.\n",
      "  0.         0.        ]\n",
      " [0.         0.         0.         0.         0.         0.\n",
      "  0.         0.         0.         0.         0.         0.\n",
      "  0.         0.48333333 2.         0.51666667 0.         0.\n",
      "  0.         0.        ]\n",
      " [0.         0.         0.         0.         0.         0.\n",
      "  0.         0.         0.         0.         0.         0.\n",
      "  0.         0.         0.484375   2.         0.515625   0.\n",
      "  0.         0.        ]\n",
      " [0.         0.         0.         0.         0.         0.\n",
      "  0.         0.         0.         0.         0.         0.\n",
      "  0.         0.         0.         0.48529412 2.         0.51470588\n",
      "  0.         0.        ]\n",
      " [0.         0.         0.         0.         0.         0.\n",
      "  0.         0.         0.         0.         0.         0.\n",
      "  0.         0.         0.         0.         0.48611111 2.\n",
      "  0.51388889 0.        ]\n",
      " [0.         0.         0.         0.         0.         0.\n",
      "  0.         0.         0.         0.         0.         0.\n",
      "  0.         0.         0.         0.         0.         0.48684211\n",
      "  2.         0.51315789]\n",
      " [0.025      0.         0.         0.         0.         0.\n",
      "  0.         0.         0.         0.         0.         0.\n",
      "  0.         0.         0.         0.         0.         0.\n",
      "  0.975      2.        ]]\n"
     ]
    }
   ],
   "source": [
    "print(\"Matriz A: \")\n",
    "print(A)"
   ]
  },
  {
   "cell_type": "code",
   "execution_count": 48,
   "metadata": {},
   "outputs": [
    {
     "name": "stdout",
     "output_type": "stream",
     "text": [
      "x:  [0.336778116907113, 0.33239497318645495, 0.3311119811443107, 0.32451735417185124, 0.3105545973942979, 0.28497732426428696, 0.24375831354040858, 0.18349103757804522, 0.10274449007216856, 0.003605304438949689, -0.1066937936422464, -0.21474017188777544, -0.3010935101175599, -0.3434660524144979, -0.320406005116735, -0.22656567150479257, -0.05642858280860289, 0.09885073150366548, 0.3850125095964878, 0.3080966751103733]\n"
     ]
    }
   ],
   "source": [
    "print(\"x: \",x)"
   ]
  },
  {
   "cell_type": "code",
   "execution_count": 35,
   "metadata": {},
   "outputs": [],
   "source": [
    "n = 3\n",
    "a=np.zeros(n)\n",
    "b=np.zeros(n)\n",
    "c=np.zeros(n)\n",
    "d=np.zeros(n)\n",
    "for i in range(n):\n",
    "    a[i] = (2*(i+1)-1)/(4*(i+1)) if (i+1) != n else (2*(i+1)-1)/(2*(i+1))\n",
    "    c[i] = 1-a[i]\n",
    "    b[i] = 2\n",
    "    d[i] = np.cos((2*np.pi*(i+1)**2)/(n**2))"
   ]
  },
  {
   "cell_type": "code",
   "execution_count": 36,
   "metadata": {},
   "outputs": [],
   "source": [
    "n = len(b)\n",
    "\n",
    "# Constroi matriz A a partir de a,b e c\n",
    "A = criaMatrizTridiagCiclico(a,b,c)\n",
    "\n",
    "# Constroi submatriz principal T\n",
    "T = np.delete(A,n-1,1)\n",
    "T = np.delete(T,n-1,0)\n",
    "\n",
    "# Constroi v\n",
    "v = [0]*n\n",
    "v[0] = a[0]\n",
    "v[-1] = c[n-2]\n",
    "\n",
    "# Resolve sistema Ty=d\n",
    "y = sistemaTridiagLU(T,d)\n",
    "\n",
    "# Resolve sistema Tz=v\n",
    "z = sistemaTridiagLU(T,v)\n",
    "\n",
    "# Solução do sistema\n",
    "x = [0]*n\n",
    "for i in range(n):\n",
    "    x[i] = (d[i]-c[i]*y[0]-a[i]*y[i-1])/(b[i]-c[i]*z[0]-a[i]*z[i-1])"
   ]
  },
  {
   "cell_type": "code",
   "execution_count": 538,
   "metadata": {},
   "outputs": [
    {
     "data": {
      "text/plain": [
       "(array([ 0.76604444, -0.93969262,  1.        ]),\n",
       " array([0.75      , 0.625     , 0.16666667]),\n",
       " array([0.25      , 0.375     , 0.83333333]),\n",
       " [0.6015081282224908, -0.5826290844346712],\n",
       " array([2., 2., 2.]),\n",
       " [0.13445378151260504, -0.025210084033613446])"
      ]
     },
     "execution_count": 538,
     "metadata": {},
     "output_type": "execute_result"
    }
   ],
   "source": [
    "d,c,a,y,b,z"
   ]
  },
  {
   "cell_type": "code",
   "execution_count": 73,
   "metadata": {},
   "outputs": [],
   "source": [
    "n = len(b)\n",
    "\n",
    "# Constroi matriz A a partir de a,b e c\n",
    "A = criaMatrizTridiagCircular(a,b,c)\n",
    "\n",
    "# Constroi submatriz principal T\n",
    "T = np.delete(A,n-1,1)\n",
    "T = np.delete(T,n-1,0)\n",
    "\n",
    "# Constroi v\n",
    "v = [0]*n\n",
    "v[0] = a[0]\n",
    "v[-1] = c[n-2]\n",
    "\n",
    "# Resolve sistema Ty=d\n",
    "y = sistemaTridiagLU(T,d)\n",
    "\n",
    "# Resolve sistema Tz=v\n",
    "z = sistemaTridiagLU(T,v)\n",
    "\n",
    "# Solução do sistema\n",
    "x = [0]*n"
   ]
  },
  {
   "cell_type": "code",
   "execution_count": 74,
   "metadata": {},
   "outputs": [],
   "source": [
    "i=0"
   ]
  },
  {
   "cell_type": "code",
   "execution_count": 75,
   "metadata": {},
   "outputs": [
    {
     "data": {
      "text/plain": [
       "(0.9998766324816606,\n",
       " 0.75,\n",
       " 0.25,\n",
       " 0.3850125095969962,\n",
       " 2.0,\n",
       " 1.6501142742661304e-12,\n",
       " 0.37843963361009003,\n",
       " 0.13522222103841955)"
      ]
     },
     "execution_count": 75,
     "metadata": {},
     "output_type": "execute_result"
    }
   ],
   "source": [
    "de=d[i]\n",
    "ce=c[i]\n",
    "ae=a[i]\n",
    "ye=y[i-1]\n",
    "be=b[i]\n",
    "ze=z[i-1]\n",
    "y0=y[0]\n",
    "z0=z[0]\n",
    "de,ce,ae,ye,be,ze,y0,z0\n"
   ]
  },
  {
   "cell_type": "code",
   "execution_count": 76,
   "metadata": {},
   "outputs": [
    {
     "data": {
      "text/plain": [
       "[0.3264506586060512, 0, 0, 0, 0, 0, 0, 0, 0, 0, 0, 0, 0, 0, 0, 0, 0, 0, 0, 0]"
      ]
     },
     "execution_count": 76,
     "metadata": {},
     "output_type": "execute_result"
    }
   ],
   "source": [
    "x[i] = (d[i]-c[i]*y[0]-a[i]*y[i-1])/(b[i]-c[i]*z[0]-a[i]*z[i-1])\n",
    "x"
   ]
  },
  {
   "cell_type": "code",
   "execution_count": 77,
   "metadata": {},
   "outputs": [],
   "source": [
    "i=1"
   ]
  },
  {
   "cell_type": "code",
   "execution_count": 78,
   "metadata": {},
   "outputs": [
    {
     "data": {
      "text/plain": [
       "(0.9980267284282716,\n",
       " 0.625,\n",
       " 0.375,\n",
       " 0.37843963361009003,\n",
       " 2.0,\n",
       " 0.13522222103841955,\n",
       " 0.37843963361009003,\n",
       " 0.13522222103841955)"
      ]
     },
     "execution_count": 78,
     "metadata": {},
     "output_type": "execute_result"
    }
   ],
   "source": [
    "de=d[i]\n",
    "ce=c[i]\n",
    "ae=a[i]\n",
    "ye=y[i-1]\n",
    "be=b[i]\n",
    "ze=z[i-1]\n",
    "y0=y[0]\n",
    "z0=z[0]\n",
    "de,ce,ae,ye,be,ze,y0,z0\n"
   ]
  },
  {
   "cell_type": "code",
   "execution_count": 79,
   "metadata": {},
   "outputs": [
    {
     "data": {
      "text/plain": [
       "[0.3264506586060512,\n",
       " 0.3322578710494955,\n",
       " 0,\n",
       " 0,\n",
       " 0,\n",
       " 0,\n",
       " 0,\n",
       " 0,\n",
       " 0,\n",
       " 0,\n",
       " 0,\n",
       " 0,\n",
       " 0,\n",
       " 0,\n",
       " 0,\n",
       " 0,\n",
       " 0,\n",
       " 0,\n",
       " 0,\n",
       " 0]"
      ]
     },
     "execution_count": 79,
     "metadata": {},
     "output_type": "execute_result"
    }
   ],
   "source": [
    "x[i] = (d[i]-c[i]*y[0]-a[i]*y[i-1])/(b[i]-c[i]*z[0]-a[i]*z[i-1])\n",
    "x"
   ]
  },
  {
   "cell_type": "code",
   "execution_count": 80,
   "metadata": {},
   "outputs": [],
   "source": [
    "i=2"
   ]
  },
  {
   "cell_type": "code",
   "execution_count": 81,
   "metadata": {},
   "outputs": [
    {
     "data": {
      "text/plain": [
       "(0.9900236577165575,\n",
       " 0.5833333333333333,\n",
       " 0.4166666666666667,\n",
       " 0.3239964870153073,\n",
       " 2.0,\n",
       " -0.02725925610245211,\n",
       " 0.37843963361009003,\n",
       " 0.13522222103841955)"
      ]
     },
     "execution_count": 81,
     "metadata": {},
     "output_type": "execute_result"
    }
   ],
   "source": [
    "de=d[i]\n",
    "ce=c[i]\n",
    "ae=a[i]\n",
    "ye=y[i-1]\n",
    "be=b[i]\n",
    "ze=z[i-1]\n",
    "y0=y[0]\n",
    "z0=z[0]\n",
    "de,ce,ae,ye,be,ze,y0,z0\n"
   ]
  },
  {
   "cell_type": "code",
   "execution_count": 82,
   "metadata": {},
   "outputs": [
    {
     "data": {
      "text/plain": [
       "[0.3264506586060512,\n",
       " 0.3322578710494955,\n",
       " 0.32821514090239745,\n",
       " 0,\n",
       " 0,\n",
       " 0,\n",
       " 0,\n",
       " 0,\n",
       " 0,\n",
       " 0,\n",
       " 0,\n",
       " 0,\n",
       " 0,\n",
       " 0,\n",
       " 0,\n",
       " 0,\n",
       " 0,\n",
       " 0,\n",
       " 0,\n",
       " 0]"
      ]
     },
     "execution_count": 82,
     "metadata": {},
     "output_type": "execute_result"
    }
   ],
   "source": [
    "x[i] = (d[i]-c[i]*y[0]-a[i]*y[i-1])/(b[i]-c[i]*z[0]-a[i]*z[i-1])\n",
    "x"
   ]
  },
  {
   "cell_type": "code",
   "execution_count": 83,
   "metadata": {},
   "outputs": [],
   "source": [
    "i=3"
   ]
  },
  {
   "cell_type": "code",
   "execution_count": 84,
   "metadata": {},
   "outputs": [
    {
     "data": {
      "text/plain": [
       "(0.9685831611286311,\n",
       " 0.5625,\n",
       " 0.4375,\n",
       " 0.3329902268701969,\n",
       " 2.0,\n",
       " 0.0060962869047950265,\n",
       " 0.37843963361009003,\n",
       " 0.13522222103841955)"
      ]
     },
     "execution_count": 84,
     "metadata": {},
     "output_type": "execute_result"
    }
   ],
   "source": [
    "de=d[i]\n",
    "ce=c[i]\n",
    "ae=a[i]\n",
    "ye=y[i-1]\n",
    "be=b[i]\n",
    "ze=z[i-1]\n",
    "y0=y[0]\n",
    "z0=z[0]\n",
    "de,ce,ae,ye,be,ze,y0,z0\n"
   ]
  },
  {
   "cell_type": "code",
   "execution_count": 85,
   "metadata": {},
   "outputs": [
    {
     "data": {
      "text/plain": [
       "[0.3264506586060512,\n",
       " 0.3322578710494955,\n",
       " 0.32821514090239745,\n",
       " 0.3175126472874449,\n",
       " 0,\n",
       " 0,\n",
       " 0,\n",
       " 0,\n",
       " 0,\n",
       " 0,\n",
       " 0,\n",
       " 0,\n",
       " 0,\n",
       " 0,\n",
       " 0,\n",
       " 0,\n",
       " 0,\n",
       " 0,\n",
       " 0,\n",
       " 0]"
      ]
     },
     "execution_count": 85,
     "metadata": {},
     "output_type": "execute_result"
    }
   ],
   "source": [
    "x[i] = (d[i]-c[i]*y[0]-a[i]*y[i-1])/(b[i]-c[i]*z[0]-a[i]*z[i-1])\n",
    "x"
   ]
  },
  {
   "cell_type": "code",
   "execution_count": 86,
   "metadata": {},
   "outputs": [],
   "source": [
    "i=4"
   ]
  },
  {
   "cell_type": "code",
   "execution_count": 87,
   "metadata": {},
   "outputs": [
    {
     "data": {
      "text/plain": [
       "(0.9238795325112867,\n",
       " 0.55,\n",
       " 0.45,\n",
       " 0.3240765732339181,\n",
       " 2.0,\n",
       " -0.0014306578861171559,\n",
       " 0.37843963361009003,\n",
       " 0.13522222103841955)"
      ]
     },
     "execution_count": 87,
     "metadata": {},
     "output_type": "execute_result"
    }
   ],
   "source": [
    "de=d[i]\n",
    "ce=c[i]\n",
    "ae=a[i]\n",
    "ye=y[i-1]\n",
    "be=b[i]\n",
    "ze=z[i-1]\n",
    "y0=y[0]\n",
    "z0=z[0]\n",
    "de,ce,ae,ye,be,ze,y0,z0\n"
   ]
  },
  {
   "cell_type": "code",
   "execution_count": 88,
   "metadata": {},
   "outputs": [
    {
     "data": {
      "text/plain": [
       "[0.3264506586060512,\n",
       " 0.3322578710494955,\n",
       " 0.32821514090239745,\n",
       " 0.3175126472874449,\n",
       " 0.2958582183433942,\n",
       " 0,\n",
       " 0,\n",
       " 0,\n",
       " 0,\n",
       " 0,\n",
       " 0,\n",
       " 0,\n",
       " 0,\n",
       " 0,\n",
       " 0,\n",
       " 0,\n",
       " 0,\n",
       " 0,\n",
       " 0,\n",
       " 0]"
      ]
     },
     "execution_count": 88,
     "metadata": {},
     "output_type": "execute_result"
    }
   ],
   "source": [
    "x[i] = (d[i]-c[i]*y[0]-a[i]*y[i-1])/(b[i]-c[i]*z[0]-a[i]*z[i-1])\n",
    "x"
   ]
  },
  {
   "cell_type": "code",
   "execution_count": 89,
   "metadata": {},
   "outputs": [],
   "source": [
    "i=5"
   ]
  },
  {
   "cell_type": "code",
   "execution_count": 90,
   "metadata": {},
   "outputs": [
    {
     "data": {
      "text/plain": [
       "(0.8443279255020151,\n",
       " 0.5416666666666667,\n",
       " 0.4583333333333333,\n",
       " 0.31066096072014865,\n",
       " 2.0,\n",
       " 0.0003452271135759772,\n",
       " 0.37843963361009003,\n",
       " 0.13522222103841955)"
      ]
     },
     "execution_count": 90,
     "metadata": {},
     "output_type": "execute_result"
    }
   ],
   "source": [
    "de=d[i]\n",
    "ce=c[i]\n",
    "ae=a[i]\n",
    "ye=y[i-1]\n",
    "be=b[i]\n",
    "ze=z[i-1]\n",
    "y0=y[0]\n",
    "z0=z[0]\n",
    "de,ce,ae,ye,be,ze,y0,z0\n"
   ]
  },
  {
   "cell_type": "code",
   "execution_count": 91,
   "metadata": {},
   "outputs": [
    {
     "data": {
      "text/plain": [
       "[0.3264506586060512,\n",
       " 0.3322578710494955,\n",
       " 0.32821514090239745,\n",
       " 0.3175126472874449,\n",
       " 0.2958582183433942,\n",
       " 0.2579437585696969,\n",
       " 0,\n",
       " 0,\n",
       " 0,\n",
       " 0,\n",
       " 0,\n",
       " 0,\n",
       " 0,\n",
       " 0,\n",
       " 0,\n",
       " 0,\n",
       " 0,\n",
       " 0,\n",
       " 0,\n",
       " 0]"
      ]
     },
     "execution_count": 91,
     "metadata": {},
     "output_type": "execute_result"
    }
   ],
   "source": [
    "x[i] = (d[i]-c[i]*y[0]-a[i]*y[i-1])/(b[i]-c[i]*z[0]-a[i]*z[i-1])\n",
    "x"
   ]
  },
  {
   "cell_type": "code",
   "execution_count": 92,
   "metadata": {},
   "outputs": [],
   "source": [
    "i=6"
   ]
  },
  {
   "cell_type": "code",
   "execution_count": 93,
   "metadata": {},
   "outputs": [
    {
     "data": {
      "text/plain": [
       "(0.7181262977631889,\n",
       " 0.5357142857142857,\n",
       " 0.4642857142857143,\n",
       " 0.28495118748313875,\n",
       " 2.0,\n",
       " -8.483305163497137e-05,\n",
       " 0.37843963361009003,\n",
       " 0.13522222103841955)"
      ]
     },
     "execution_count": 93,
     "metadata": {},
     "output_type": "execute_result"
    }
   ],
   "source": [
    "de=d[i]\n",
    "ce=c[i]\n",
    "ae=a[i]\n",
    "ye=y[i-1]\n",
    "be=b[i]\n",
    "ze=z[i-1]\n",
    "y0=y[0]\n",
    "z0=z[0]\n",
    "de,ce,ae,ye,be,ze,y0,z0\n"
   ]
  },
  {
   "cell_type": "code",
   "execution_count": 94,
   "metadata": {},
   "outputs": [
    {
     "data": {
      "text/plain": [
       "[0.3264506586060512,\n",
       " 0.3322578710494955,\n",
       " 0.32821514090239745,\n",
       " 0.3175126472874449,\n",
       " 0.2958582183433942,\n",
       " 0.2579437585696969,\n",
       " 0.19874052216527255,\n",
       " 0,\n",
       " 0,\n",
       " 0,\n",
       " 0,\n",
       " 0,\n",
       " 0,\n",
       " 0,\n",
       " 0,\n",
       " 0,\n",
       " 0,\n",
       " 0,\n",
       " 0,\n",
       " 0]"
      ]
     },
     "execution_count": 94,
     "metadata": {},
     "output_type": "execute_result"
    }
   ],
   "source": [
    "x[i] = (d[i]-c[i]*y[0]-a[i]*y[i-1])/(b[i]-c[i]*z[0]-a[i]*z[i-1])\n",
    "x"
   ]
  },
  {
   "cell_type": "code",
   "execution_count": 95,
   "metadata": {},
   "outputs": [],
   "source": [
    "i=7"
   ]
  },
  {
   "cell_type": "code",
   "execution_count": 96,
   "metadata": {},
   "outputs": [
    {
     "data": {
      "text/plain": [
       "(0.5358267949789965,\n",
       " 0.53125,\n",
       " 0.46875,\n",
       " 0.24376481884123596,\n",
       " 2.0,\n",
       " 2.1114479164836693e-05,\n",
       " 0.37843963361009003,\n",
       " 0.13522222103841955)"
      ]
     },
     "execution_count": 96,
     "metadata": {},
     "output_type": "execute_result"
    }
   ],
   "source": [
    "de=d[i]\n",
    "ce=c[i]\n",
    "ae=a[i]\n",
    "ye=y[i-1]\n",
    "be=b[i]\n",
    "ze=z[i-1]\n",
    "y0=y[0]\n",
    "z0=z[0]\n",
    "de,ce,ae,ye,be,ze,y0,z0\n"
   ]
  },
  {
   "cell_type": "code",
   "execution_count": 97,
   "metadata": {},
   "outputs": [
    {
     "data": {
      "text/plain": [
       "[0.3264506586060512,\n",
       " 0.3322578710494955,\n",
       " 0.32821514090239745,\n",
       " 0.3175126472874449,\n",
       " 0.2958582183433942,\n",
       " 0.2579437585696969,\n",
       " 0.19874052216527255,\n",
       " 0.11436641529451183,\n",
       " 0,\n",
       " 0,\n",
       " 0,\n",
       " 0,\n",
       " 0,\n",
       " 0,\n",
       " 0,\n",
       " 0,\n",
       " 0,\n",
       " 0,\n",
       " 0,\n",
       " 0]"
      ]
     },
     "execution_count": 97,
     "metadata": {},
     "output_type": "execute_result"
    }
   ],
   "source": [
    "x[i] = (d[i]-c[i]*y[0]-a[i]*y[i-1])/(b[i]-c[i]*z[0]-a[i]*z[i-1])\n",
    "x"
   ]
  },
  {
   "cell_type": "code",
   "execution_count": 98,
   "metadata": {},
   "outputs": [],
   "source": [
    "i=8"
   ]
  },
  {
   "cell_type": "code",
   "execution_count": 99,
   "metadata": {},
   "outputs": [
    {
     "data": {
      "text/plain": [
       "(0.2940403252323041,\n",
       " 0.5277777777777778,\n",
       " 0.4722222222222222,\n",
       " 0.18348940299861813,\n",
       " 2.0,\n",
       " -5.305410798415122e-06,\n",
       " 0.37843963361009003,\n",
       " 0.13522222103841955)"
      ]
     },
     "execution_count": 99,
     "metadata": {},
     "output_type": "execute_result"
    }
   ],
   "source": [
    "de=d[i]\n",
    "ce=c[i]\n",
    "ae=a[i]\n",
    "ye=y[i-1]\n",
    "be=b[i]\n",
    "ze=z[i-1]\n",
    "y0=y[0]\n",
    "z0=z[0]\n",
    "de,ce,ae,ye,be,ze,y0,z0\n"
   ]
  },
  {
   "cell_type": "code",
   "execution_count": 100,
   "metadata": {},
   "outputs": [
    {
     "data": {
      "text/plain": [
       "[0.3264506586060512,\n",
       " 0.3322578710494955,\n",
       " 0.32821514090239745,\n",
       " 0.3175126472874449,\n",
       " 0.2958582183433942,\n",
       " 0.2579437585696969,\n",
       " 0.19874052216527255,\n",
       " 0.11436641529451183,\n",
       " 0.003971991518606654,\n",
       " 0,\n",
       " 0,\n",
       " 0,\n",
       " 0,\n",
       " 0,\n",
       " 0,\n",
       " 0,\n",
       " 0,\n",
       " 0,\n",
       " 0,\n",
       " 0]"
      ]
     },
     "execution_count": 100,
     "metadata": {},
     "output_type": "execute_result"
    }
   ],
   "source": [
    "x[i] = (d[i]-c[i]*y[0]-a[i]*y[i-1])/(b[i]-c[i]*z[0]-a[i]*z[i-1])\n",
    "x"
   ]
  },
  {
   "cell_type": "code",
   "execution_count": 101,
   "metadata": {},
   "outputs": [],
   "source": [
    "i=9"
   ]
  },
  {
   "cell_type": "code",
   "execution_count": 102,
   "metadata": {},
   "outputs": [
    {
     "data": {
      "text/plain": [
       "(6.123233995736766e-17,\n",
       " 0.525,\n",
       " 0.475,\n",
       " 0.1027449038116346,\n",
       " 2.0,\n",
       " 1.3428884485892576e-06,\n",
       " 0.37843963361009003,\n",
       " 0.13522222103841955)"
      ]
     },
     "execution_count": 102,
     "metadata": {},
     "output_type": "execute_result"
    }
   ],
   "source": [
    "de=d[i]\n",
    "ce=c[i]\n",
    "ae=a[i]\n",
    "ye=y[i-1]\n",
    "be=b[i]\n",
    "ze=z[i-1]\n",
    "y0=y[0]\n",
    "z0=z[0]\n",
    "de,ce,ae,ye,be,ze,y0,z0\n"
   ]
  },
  {
   "cell_type": "code",
   "execution_count": 103,
   "metadata": {},
   "outputs": [
    {
     "data": {
      "text/plain": [
       "[0.3264506586060512,\n",
       " 0.3322578710494955,\n",
       " 0.32821514090239745,\n",
       " 0.3175126472874449,\n",
       " 0.2958582183433942,\n",
       " 0.2579437585696969,\n",
       " 0.19874052216527255,\n",
       " 0.11436641529451183,\n",
       " 0.003971991518606654,\n",
       " -0.12829634503707993,\n",
       " 0,\n",
       " 0,\n",
       " 0,\n",
       " 0,\n",
       " 0,\n",
       " 0,\n",
       " 0,\n",
       " 0,\n",
       " 0,\n",
       " 0]"
      ]
     },
     "execution_count": 103,
     "metadata": {},
     "output_type": "execute_result"
    }
   ],
   "source": [
    "x[i] = (d[i]-c[i]*y[0]-a[i]*y[i-1])/(b[i]-c[i]*z[0]-a[i]*z[i-1])\n",
    "x"
   ]
  },
  {
   "cell_type": "code",
   "execution_count": 104,
   "metadata": {},
   "outputs": [],
   "source": [
    "i=10"
   ]
  },
  {
   "cell_type": "code",
   "execution_count": 105,
   "metadata": {},
   "outputs": [
    {
     "data": {
      "text/plain": [
       "(-0.32391741819814945,\n",
       " 0.5227272727272727,\n",
       " 0.4772727272727273,\n",
       " 0.0036051991025657175,\n",
       " 2.0,\n",
       " -3.418939329141826e-07,\n",
       " 0.37843963361009003,\n",
       " 0.13522222103841955)"
      ]
     },
     "execution_count": 105,
     "metadata": {},
     "output_type": "execute_result"
    }
   ],
   "source": [
    "de=d[i]\n",
    "ce=c[i]\n",
    "ae=a[i]\n",
    "ye=y[i-1]\n",
    "be=b[i]\n",
    "ze=z[i-1]\n",
    "y0=y[0]\n",
    "z0=z[0]\n",
    "de,ce,ae,ye,be,ze,y0,z0\n"
   ]
  },
  {
   "cell_type": "code",
   "execution_count": 106,
   "metadata": {},
   "outputs": [
    {
     "data": {
      "text/plain": [
       "[0.3264506586060512,\n",
       " 0.3322578710494955,\n",
       " 0.32821514090239745,\n",
       " 0.3175126472874449,\n",
       " 0.2958582183433942,\n",
       " 0.2579437585696969,\n",
       " 0.19874052216527255,\n",
       " 0.11436641529451183,\n",
       " 0.003971991518606654,\n",
       " -0.12829634503707993,\n",
       " -0.27131835723874725,\n",
       " 0,\n",
       " 0,\n",
       " 0,\n",
       " 0,\n",
       " 0,\n",
       " 0,\n",
       " 0,\n",
       " 0,\n",
       " 0]"
      ]
     },
     "execution_count": 106,
     "metadata": {},
     "output_type": "execute_result"
    }
   ],
   "source": [
    "x[i] = (d[i]-c[i]*y[0]-a[i]*y[i-1])/(b[i]-c[i]*z[0]-a[i]*z[i-1])\n",
    "x"
   ]
  },
  {
   "cell_type": "code",
   "execution_count": 107,
   "metadata": {},
   "outputs": [],
   "source": [
    "i=11"
   ]
  },
  {
   "cell_type": "code",
   "execution_count": 108,
   "metadata": {},
   "outputs": [
    {
     "data": {
      "text/plain": [
       "(-0.6374239897486897,\n",
       " 0.5208333333333333,\n",
       " 0.4791666666666667,\n",
       " -0.10669376669649104,\n",
       " 2.0,\n",
       " 8.745876713993906e-08,\n",
       " 0.37843963361009003,\n",
       " 0.13522222103841955)"
      ]
     },
     "execution_count": 108,
     "metadata": {},
     "output_type": "execute_result"
    }
   ],
   "source": [
    "de=d[i]\n",
    "ce=c[i]\n",
    "ae=a[i]\n",
    "ye=y[i-1]\n",
    "be=b[i]\n",
    "ze=z[i-1]\n",
    "y0=y[0]\n",
    "z0=z[0]\n",
    "de,ce,ae,ye,be,ze,y0,z0\n"
   ]
  },
  {
   "cell_type": "code",
   "execution_count": 109,
   "metadata": {},
   "outputs": [
    {
     "data": {
      "text/plain": [
       "[0.3264506586060512,\n",
       " 0.3322578710494955,\n",
       " 0.32821514090239745,\n",
       " 0.3175126472874449,\n",
       " 0.2958582183433942,\n",
       " 0.2579437585696969,\n",
       " 0.19874052216527255,\n",
       " 0.11436641529451183,\n",
       " 0.003971991518606654,\n",
       " -0.12829634503707993,\n",
       " -0.27131835723874725,\n",
       " -0.4059988347414199,\n",
       " 0,\n",
       " 0,\n",
       " 0,\n",
       " 0,\n",
       " 0,\n",
       " 0,\n",
       " 0,\n",
       " 0]"
      ]
     },
     "execution_count": 109,
     "metadata": {},
     "output_type": "execute_result"
    }
   ],
   "source": [
    "x[i] = (d[i]-c[i]*y[0]-a[i]*y[i-1])/(b[i]-c[i]*z[0]-a[i]*z[i-1])\n",
    "x"
   ]
  },
  {
   "cell_type": "code",
   "execution_count": 110,
   "metadata": {},
   "outputs": [],
   "source": [
    "i=12"
   ]
  },
  {
   "cell_type": "code",
   "execution_count": 111,
   "metadata": {},
   "outputs": [
    {
     "data": {
      "text/plain": [
       "(-0.8837656300886935,\n",
       " 0.5192307692307692,\n",
       " 0.4807692307692308,\n",
       " -0.21474017880788018,\n",
       " 2.0,\n",
       " -2.2460822483339226e-08,\n",
       " 0.37843963361009003,\n",
       " 0.13522222103841955)"
      ]
     },
     "execution_count": 111,
     "metadata": {},
     "output_type": "execute_result"
    }
   ],
   "source": [
    "de=d[i]\n",
    "ce=c[i]\n",
    "ae=a[i]\n",
    "ye=y[i-1]\n",
    "be=b[i]\n",
    "ze=z[i-1]\n",
    "y0=y[0]\n",
    "z0=z[0]\n",
    "de,ce,ae,ye,be,ze,y0,z0\n"
   ]
  },
  {
   "cell_type": "code",
   "execution_count": 112,
   "metadata": {},
   "outputs": [
    {
     "data": {
      "text/plain": [
       "[0.3264506586060512,\n",
       " 0.3322578710494955,\n",
       " 0.32821514090239745,\n",
       " 0.3175126472874449,\n",
       " 0.2958582183433942,\n",
       " 0.2579437585696969,\n",
       " 0.19874052216527255,\n",
       " 0.11436641529451183,\n",
       " 0.003971991518606654,\n",
       " -0.12829634503707993,\n",
       " -0.27131835723874725,\n",
       " -0.4059988347414199,\n",
       " -0.5062848468984835,\n",
       " 0,\n",
       " 0,\n",
       " 0,\n",
       " 0,\n",
       " 0,\n",
       " 0,\n",
       " 0]"
      ]
     },
     "execution_count": 112,
     "metadata": {},
     "output_type": "execute_result"
    }
   ],
   "source": [
    "x[i] = (d[i]-c[i]*y[0]-a[i]*y[i-1])/(b[i]-c[i]*z[0]-a[i]*z[i-1])\n",
    "x"
   ]
  },
  {
   "cell_type": "code",
   "execution_count": 113,
   "metadata": {},
   "outputs": [],
   "source": [
    "i=13"
   ]
  },
  {
   "cell_type": "code",
   "execution_count": 114,
   "metadata": {},
   "outputs": [
    {
     "data": {
      "text/plain": [
       "(-0.9980267284282716,\n",
       " 0.5178571428571428,\n",
       " 0.48214285714285715,\n",
       " -0.3010935083344527,\n",
       " 2.0,\n",
       " 5.787492567278679e-09,\n",
       " 0.37843963361009003,\n",
       " 0.13522222103841955)"
      ]
     },
     "execution_count": 114,
     "metadata": {},
     "output_type": "execute_result"
    }
   ],
   "source": [
    "de=d[i]\n",
    "ce=c[i]\n",
    "ae=a[i]\n",
    "ye=y[i-1]\n",
    "be=b[i]\n",
    "ze=z[i-1]\n",
    "y0=y[0]\n",
    "z0=z[0]\n",
    "de,ce,ae,ye,be,ze,y0,z0\n"
   ]
  },
  {
   "cell_type": "code",
   "execution_count": 115,
   "metadata": {},
   "outputs": [
    {
     "data": {
      "text/plain": [
       "[0.3264506586060512,\n",
       " 0.3322578710494955,\n",
       " 0.32821514090239745,\n",
       " 0.3175126472874449,\n",
       " 0.2958582183433942,\n",
       " 0.2579437585696969,\n",
       " 0.19874052216527255,\n",
       " 0.11436641529451183,\n",
       " 0.003971991518606654,\n",
       " -0.12829634503707993,\n",
       " -0.27131835723874725,\n",
       " -0.4059988347414199,\n",
       " -0.5062848468984835,\n",
       " -0.5434447306035427,\n",
       " 0,\n",
       " 0,\n",
       " 0,\n",
       " 0,\n",
       " 0,\n",
       " 0]"
      ]
     },
     "execution_count": 115,
     "metadata": {},
     "output_type": "execute_result"
    }
   ],
   "source": [
    "x[i] = (d[i]-c[i]*y[0]-a[i]*y[i-1])/(b[i]-c[i]*z[0]-a[i]*z[i-1])\n",
    "x"
   ]
  },
  {
   "cell_type": "code",
   "execution_count": 116,
   "metadata": {},
   "outputs": [],
   "source": [
    "i=14"
   ]
  },
  {
   "cell_type": "code",
   "execution_count": 117,
   "metadata": {},
   "outputs": [
    {
     "data": {
      "text/plain": [
       "(-0.9238795325112868,\n",
       " 0.5166666666666666,\n",
       " 0.48333333333333334,\n",
       " -0.3434660528752584,\n",
       " 2.0,\n",
       " -1.495506107907482e-09,\n",
       " 0.37843963361009003,\n",
       " 0.13522222103841955)"
      ]
     },
     "execution_count": 117,
     "metadata": {},
     "output_type": "execute_result"
    }
   ],
   "source": [
    "de=d[i]\n",
    "ce=c[i]\n",
    "ae=a[i]\n",
    "ye=y[i-1]\n",
    "be=b[i]\n",
    "ze=z[i-1]\n",
    "y0=y[0]\n",
    "z0=z[0]\n",
    "de,ce,ae,ye,be,ze,y0,z0\n"
   ]
  },
  {
   "cell_type": "code",
   "execution_count": 118,
   "metadata": {},
   "outputs": [
    {
     "data": {
      "text/plain": [
       "[0.3264506586060512,\n",
       " 0.3322578710494955,\n",
       " 0.32821514090239745,\n",
       " 0.3175126472874449,\n",
       " 0.2958582183433942,\n",
       " 0.2579437585696969,\n",
       " 0.19874052216527255,\n",
       " 0.11436641529451183,\n",
       " 0.003971991518606654,\n",
       " -0.12829634503707993,\n",
       " -0.27131835723874725,\n",
       " -0.4059988347414199,\n",
       " -0.5062848468984835,\n",
       " -0.5434447306035427,\n",
       " -0.4939540457988649,\n",
       " 0,\n",
       " 0,\n",
       " 0,\n",
       " 0,\n",
       " 0]"
      ]
     },
     "execution_count": 118,
     "metadata": {},
     "output_type": "execute_result"
    }
   ],
   "source": [
    "x[i] = (d[i]-c[i]*y[0]-a[i]*y[i-1])/(b[i]-c[i]*z[0]-a[i]*z[i-1])\n",
    "x"
   ]
  },
  {
   "cell_type": "code",
   "execution_count": 119,
   "metadata": {},
   "outputs": [],
   "source": [
    "i=15"
   ]
  },
  {
   "cell_type": "code",
   "execution_count": 120,
   "metadata": {},
   "outputs": [
    {
     "data": {
      "text/plain": [
       "(-0.6374239897486895,\n",
       " 0.515625,\n",
       " 0.484375,\n",
       " -0.32040600499738064,\n",
       " 2.0,\n",
       " 3.8739257824529883e-10,\n",
       " 0.37843963361009003,\n",
       " 0.13522222103841955)"
      ]
     },
     "execution_count": 120,
     "metadata": {},
     "output_type": "execute_result"
    }
   ],
   "source": [
    "de=d[i]\n",
    "ce=c[i]\n",
    "ae=a[i]\n",
    "ye=y[i-1]\n",
    "be=b[i]\n",
    "ze=z[i-1]\n",
    "y0=y[0]\n",
    "z0=z[0]\n",
    "de,ce,ae,ye,be,ze,y0,z0\n"
   ]
  },
  {
   "cell_type": "code",
   "execution_count": 121,
   "metadata": {},
   "outputs": [
    {
     "data": {
      "text/plain": [
       "[0.3264506586060512,\n",
       " 0.3322578710494955,\n",
       " 0.32821514090239745,\n",
       " 0.3175126472874449,\n",
       " 0.2958582183433942,\n",
       " 0.2579437585696969,\n",
       " 0.19874052216527255,\n",
       " 0.11436641529451183,\n",
       " 0.003971991518606654,\n",
       " -0.12829634503707993,\n",
       " -0.27131835723874725,\n",
       " -0.4059988347414199,\n",
       " -0.5062848468984835,\n",
       " -0.5434447306035427,\n",
       " -0.4939540457988649,\n",
       " -0.3509136788669248,\n",
       " 0,\n",
       " 0,\n",
       " 0,\n",
       " 0]"
      ]
     },
     "execution_count": 121,
     "metadata": {},
     "output_type": "execute_result"
    }
   ],
   "source": [
    "x[i] = (d[i]-c[i]*y[0]-a[i]*y[i-1])/(b[i]-c[i]*z[0]-a[i]*z[i-1])\n",
    "x"
   ]
  },
  {
   "cell_type": "code",
   "execution_count": 122,
   "metadata": {},
   "outputs": [],
   "source": [
    "i=16"
   ]
  },
  {
   "cell_type": "code",
   "execution_count": 123,
   "metadata": {},
   "outputs": [
    {
     "data": {
      "text/plain": [
       "(-0.17192910027940964,\n",
       " 0.5147058823529411,\n",
       " 0.4852941176470588,\n",
       " -0.22656567153577548,\n",
       " 2.0,\n",
       " -1.005623309715765e-10,\n",
       " 0.37843963361009003,\n",
       " 0.13522222103841955)"
      ]
     },
     "execution_count": 123,
     "metadata": {},
     "output_type": "execute_result"
    }
   ],
   "source": [
    "de=d[i]\n",
    "ce=c[i]\n",
    "ae=a[i]\n",
    "ye=y[i-1]\n",
    "be=b[i]\n",
    "ze=z[i-1]\n",
    "y0=y[0]\n",
    "z0=z[0]\n",
    "de,ce,ae,ye,be,ze,y0,z0\n"
   ]
  },
  {
   "cell_type": "code",
   "execution_count": 124,
   "metadata": {},
   "outputs": [
    {
     "data": {
      "text/plain": [
       "[0.3264506586060512,\n",
       " 0.3322578710494955,\n",
       " 0.32821514090239745,\n",
       " 0.3175126472874449,\n",
       " 0.2958582183433942,\n",
       " 0.2579437585696969,\n",
       " 0.19874052216527255,\n",
       " 0.11436641529451183,\n",
       " 0.003971991518606654,\n",
       " -0.12829634503707993,\n",
       " -0.27131835723874725,\n",
       " -0.4059988347414199,\n",
       " -0.5062848468984835,\n",
       " -0.5434447306035427,\n",
       " -0.4939540457988649,\n",
       " -0.3509136788669248,\n",
       " -0.13301034739016668,\n",
       " 0,\n",
       " 0,\n",
       " 0]"
      ]
     },
     "execution_count": 124,
     "metadata": {},
     "output_type": "execute_result"
    }
   ],
   "source": [
    "x[i] = (d[i]-c[i]*y[0]-a[i]*y[i-1])/(b[i]-c[i]*z[0]-a[i]*z[i-1])\n",
    "x"
   ]
  },
  {
   "cell_type": "code",
   "execution_count": 125,
   "metadata": {},
   "outputs": [],
   "source": [
    "i=17"
   ]
  },
  {
   "cell_type": "code",
   "execution_count": 126,
   "metadata": {},
   "outputs": [
    {
     "data": {
      "text/plain": [
       "(0.3681245526846774,\n",
       " 0.5138888888888888,\n",
       " 0.4861111111111111,\n",
       " -0.05642858280054749,\n",
       " 2.0,\n",
       " 2.6145710265379716e-11,\n",
       " 0.37843963361009003,\n",
       " 0.13522222103841955)"
      ]
     },
     "execution_count": 126,
     "metadata": {},
     "output_type": "execute_result"
    }
   ],
   "source": [
    "de=d[i]\n",
    "ce=c[i]\n",
    "ae=a[i]\n",
    "ye=y[i-1]\n",
    "be=b[i]\n",
    "ze=z[i-1]\n",
    "y0=y[0]\n",
    "z0=z[0]\n",
    "de,ce,ae,ye,be,ze,y0,z0\n"
   ]
  },
  {
   "cell_type": "code",
   "execution_count": 127,
   "metadata": {},
   "outputs": [
    {
     "data": {
      "text/plain": [
       "[0.3264506586060512,\n",
       " 0.3322578710494955,\n",
       " 0.32821514090239745,\n",
       " 0.3175126472874449,\n",
       " 0.2958582183433942,\n",
       " 0.2579437585696969,\n",
       " 0.19874052216527255,\n",
       " 0.11436641529451183,\n",
       " 0.003971991518606654,\n",
       " -0.12829634503707993,\n",
       " -0.27131835723874725,\n",
       " -0.4059988347414199,\n",
       " -0.5062848468984835,\n",
       " -0.5434447306035427,\n",
       " -0.4939540457988649,\n",
       " -0.3509136788669248,\n",
       " -0.13301034739016668,\n",
       " 0.10415854219600722,\n",
       " 0,\n",
       " 0]"
      ]
     },
     "execution_count": 127,
     "metadata": {},
     "output_type": "execute_result"
    }
   ],
   "source": [
    "x[i] = (d[i]-c[i]*y[0]-a[i]*y[i-1])/(b[i]-c[i]*z[0]-a[i]*z[i-1])\n",
    "x"
   ]
  },
  {
   "cell_type": "code",
   "execution_count": 128,
   "metadata": {},
   "outputs": [],
   "source": [
    "i=18"
   ]
  },
  {
   "cell_type": "code",
   "execution_count": 129,
   "metadata": {},
   "outputs": [
    {
     "data": {
      "text/plain": [
       "(0.8181497174250233,\n",
       " 0.513157894736842,\n",
       " 0.4868421052631579,\n",
       " 0.09885073150157694,\n",
       " 2.0,\n",
       " -6.7788478294176165e-12,\n",
       " 0.37843963361009003,\n",
       " 0.13522222103841955)"
      ]
     },
     "execution_count": 129,
     "metadata": {},
     "output_type": "execute_result"
    }
   ],
   "source": [
    "de=d[i]\n",
    "ce=c[i]\n",
    "ae=a[i]\n",
    "ye=y[i-1]\n",
    "be=b[i]\n",
    "ze=z[i-1]\n",
    "y0=y[0]\n",
    "z0=z[0]\n",
    "de,ce,ae,ye,be,ze,y0,z0\n"
   ]
  },
  {
   "cell_type": "code",
   "execution_count": 130,
   "metadata": {},
   "outputs": [
    {
     "data": {
      "text/plain": [
       "[0.3264506586060512,\n",
       " 0.3322578710494955,\n",
       " 0.32821514090239745,\n",
       " 0.3175126472874449,\n",
       " 0.2958582183433942,\n",
       " 0.2579437585696969,\n",
       " 0.19874052216527255,\n",
       " 0.11436641529451183,\n",
       " 0.003971991518606654,\n",
       " -0.12829634503707993,\n",
       " -0.27131835723874725,\n",
       " -0.4059988347414199,\n",
       " -0.5062848468984835,\n",
       " -0.5434447306035427,\n",
       " -0.4939540457988649,\n",
       " -0.3509136788669248,\n",
       " -0.13301034739016668,\n",
       " 0.10415854219600722,\n",
       " 0.2982610874265121,\n",
       " 0]"
      ]
     },
     "execution_count": 130,
     "metadata": {},
     "output_type": "execute_result"
    }
   ],
   "source": [
    "x[i] = (d[i]-c[i]*y[0]-a[i]*y[i-1])/(b[i]-c[i]*z[0]-a[i]*z[i-1])\n",
    "x"
   ]
  },
  {
   "cell_type": "code",
   "execution_count": 131,
   "metadata": {},
   "outputs": [],
   "source": [
    "i=19"
   ]
  },
  {
   "cell_type": "code",
   "execution_count": 132,
   "metadata": {},
   "outputs": [
    {
     "data": {
      "text/plain": [
       "(1.0,\n",
       " 0.025000000000000022,\n",
       " 0.975,\n",
       " 0.3850125095969962,\n",
       " 2.0,\n",
       " 1.6501142742661304e-12,\n",
       " 0.37843963361009003,\n",
       " 0.13522222103841955)"
      ]
     },
     "execution_count": 132,
     "metadata": {},
     "output_type": "execute_result"
    }
   ],
   "source": [
    "de=d[i]\n",
    "ce=c[i]\n",
    "ae=a[i]\n",
    "ye=y[i-1]\n",
    "be=b[i]\n",
    "ze=z[i-1]\n",
    "y0=y[0]\n",
    "z0=z[0]\n",
    "de,ce,ae,ye,be,ze,y0,z0\n"
   ]
  },
  {
   "cell_type": "code",
   "execution_count": 133,
   "metadata": {},
   "outputs": [
    {
     "data": {
      "text/plain": [
       "[0.3264506586060512,\n",
       " 0.3322578710494955,\n",
       " 0.32821514090239745,\n",
       " 0.3175126472874449,\n",
       " 0.2958582183433942,\n",
       " 0.2579437585696969,\n",
       " 0.19874052216527255,\n",
       " 0.11436641529451183,\n",
       " 0.003971991518606654,\n",
       " -0.12829634503707993,\n",
       " -0.27131835723874725,\n",
       " -0.4059988347414199,\n",
       " -0.5062848468984835,\n",
       " -0.5434447306035427,\n",
       " -0.4939540457988649,\n",
       " -0.3509136788669248,\n",
       " -0.13301034739016668,\n",
       " 0.10415854219600722,\n",
       " 0.2982610874265121,\n",
       " 0.3080966751103733]"
      ]
     },
     "execution_count": 133,
     "metadata": {},
     "output_type": "execute_result"
    }
   ],
   "source": [
    "x[i] = (d[i]-c[i]*y[0]-a[i]*y[i-1])/(b[i]-c[i]*z[0]-a[i]*z[i-1])\n",
    "x"
   ]
  },
  {
   "cell_type": "code",
   "execution_count": null,
   "metadata": {},
   "outputs": [],
   "source": []
  }
 ],
 "metadata": {
  "interpreter": {
   "hash": "ef0a5c63dcd65a88e4a38abe4cf0f551944fa85b93004240d0d52bcbb8465806"
  },
  "kernelspec": {
   "display_name": "Python 3.9.12 64-bit (windows store)",
   "language": "python",
   "name": "python3"
  },
  "language_info": {
   "codemirror_mode": {
    "name": "ipython",
    "version": 3
   },
   "file_extension": ".py",
   "mimetype": "text/x-python",
   "name": "python",
   "nbconvert_exporter": "python",
   "pygments_lexer": "ipython3",
   "version": "3.10.1"
  },
  "orig_nbformat": 4
 },
 "nbformat": 4,
 "nbformat_minor": 2
}
