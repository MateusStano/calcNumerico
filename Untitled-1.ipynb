{
 "cells": [
  {
   "cell_type": "code",
   "execution_count": 2,
   "metadata": {},
   "outputs": [],
   "source": [
    "from rocketpy import Function\n",
    "import numpy as np"
   ]
  },
  {
   "cell_type": "markdown",
   "metadata": {},
   "source": [
    "Decomposição LU"
   ]
  },
  {
   "cell_type": "code",
   "execution_count": 224,
   "metadata": {},
   "outputs": [],
   "source": [
    "# Decompõe uma matriz quadrada de dimensão n na for A = LU\n",
    "def LU(A):\n",
    "    # Dimensão n da matriz A\n",
    "    n = A.shape[0]\n",
    "\n",
    "    # Inicializa matrizes L e U\n",
    "    L = np.identity(n,dtype=np.float64)\n",
    "    U = np.zeros((n,n),dtype=np.float64)\n",
    "    \n",
    "    # Calcula U e L\n",
    "    for i in range(n):\n",
    "        U[i,i:] = A[i,i:] - L[i,:i] @ U[:i,i:]\n",
    "        L[(i+1):,i] = (1/U[i,i]) * (A[(i+1):,i] - L[(i+1):,:] @ U[:,i])\n",
    "        \n",
    "    return U, L"
   ]
  },
  {
   "cell_type": "markdown",
   "metadata": {},
   "source": [
    "Decompósição LU para matrizes tridiagonais"
   ]
  },
  {
   "cell_type": "code",
   "execution_count": 336,
   "metadata": {},
   "outputs": [],
   "source": [
    "# Decompõe uma matriz tridiagonal quadrada de dimensão n na for A = LU\n",
    "def decompoeMatrizTridiag(A):\n",
    "    # Dimensão n da matriz A\n",
    "    n = A.shape[0]\n",
    "\n",
    "    # Define os vetores das diagonais\n",
    "\n",
    "    # Diagonal secundaria abaixo da principal\n",
    "    a = [A[i+1][i] for i in range(n-1)]\n",
    "    a = [0] + a # Adiciona 0 a primeiro item do vetor\n",
    "\n",
    "    # Diagonal principal\n",
    "    b = [A[i][i] for i in range(n)]\n",
    "\n",
    "    # Diagonal secundaria acima da principal\n",
    "    c = [A[i][i+1] for i in range(n-1)]\n",
    "    c = c + [0] # Adiciona 0 ao fim do vetor\n",
    "\n",
    "    return a,b,c"
   ]
  },
  {
   "cell_type": "code",
   "execution_count": 511,
   "metadata": {},
   "outputs": [],
   "source": [
    "# Resolve sistema tridiagonais\n",
    "def sistemaTridiagLU(A,d):\n",
    "    # Dimensão de A\n",
    "    n = A.shape[0]\n",
    "    \n",
    "    # Define diagonais a, b e c\n",
    "    a,b,c = decompoeMatrizTridiag(A)\n",
    "\n",
    "    # Calcula vetores u e l\n",
    "    u = [b[0]]\n",
    "    l = []\n",
    "    for i in range(1,n):\n",
    "        l.append(a[i]/u[i-1])\n",
    "        u.append(b[i]-l[i-1]*c[i-1])\n",
    "\n",
    "    # Calcula solução de L*y = d\n",
    "    y = [d[0]]\n",
    "    for i in range(1,n):\n",
    "        y.append(d[i]-l[i-1]*y[i-1])\n",
    "    \n",
    "    # Calcula solução de U*x = y\n",
    "    x = [0] * n\n",
    "    x[n-1] = y[n-1]/u[n-1]\n",
    "    for i in reversed(range(0,n-1)):\n",
    "        x[i] = (y[i]-c[i]*x[i+1])/u[i]\n",
    "\n",
    "    return x"
   ]
  },
  {
   "cell_type": "code",
   "execution_count": 571,
   "metadata": {},
   "outputs": [],
   "source": [
    "# Cria matriz tridiagonal circular a partir dos vetores que definem suas diagonais\n",
    "def criaMatrizTridiagCircular(a,b,c):\n",
    "    # Dimensão n da matriz\n",
    "    n = len(b)\n",
    "\n",
    "    # Inicializa matriz de dimensão n\n",
    "    A = np.zeros((n,n),dtype=np.float64)\n",
    "\n",
    "    # Constrõe a matriz a partir de a,b e c\n",
    "    for i in range(n):\n",
    "        if i == 0:\n",
    "            A[i][n-1]=a[i]\n",
    "        else:\n",
    "            A[i][i-1]=a[i]\n",
    "        A[i][i]=b[i]\n",
    "        if i == n-1:\n",
    "            A[i][0]=c[i]    \n",
    "        else:\n",
    "            A[i][i+1]=c[i]\n",
    "            \n",
    "    return A"
   ]
  },
  {
   "cell_type": "code",
   "execution_count": 572,
   "metadata": {},
   "outputs": [],
   "source": [
    "# Resolve sistemas tridiagonais ciclicos\n",
    "def sistemaTridiagCiclico(a,b,c,d):\n",
    "    n = len(b)\n",
    "\n",
    "    # Constroi matriz A a partir de a,b e c\n",
    "    A = criaMatrizTridiagCircular(a,b,c)\n",
    "\n",
    "    # Constroi submatriz principal T\n",
    "    T = np.delete(A,n-1,1)\n",
    "    T = np.delete(T,n-1,0)\n",
    "\n",
    "    # Constroi v\n",
    "    v = [0]*n\n",
    "    v[0] = a[0]\n",
    "    v[-1] = c[n-2]\n",
    "\n",
    "    # Resolve sistema Ty=d\n",
    "    y = sistemaTridiagLU(T,d)\n",
    "\n",
    "    # Resolve sistema Tz=v\n",
    "    z = sistemaTridiagLU(T,v)\n",
    "\n",
    "    # Solução do sistema\n",
    "    x = [0]*n\n",
    "    for i in range(n):\n",
    "        x[i] = (d[i]-c[i]*y[0]-a[i]*y[i-1])/(b[i]-c[i]*z[0]-a[i]*z[i-1])\n",
    "\n",
    "    xBarra = [0]*(n-1)\n",
    "    for i in range(n-1):\n",
    "        xBarra[i] = y[i] - x[i]*z[i]\n",
    "\n",
    "    return x, xBarra, A"
   ]
  },
  {
   "cell_type": "code",
   "execution_count": 567,
   "metadata": {},
   "outputs": [],
   "source": [
    "n = 3\n",
    "a=np.zeros(n)\n",
    "b=np.zeros(n)\n",
    "c=np.zeros(n)\n",
    "d=np.zeros(n)\n",
    "for i in range(n):\n",
    "    a[i] = (2*(i+1)-1)/(4*(i+1)) if (i+1) != n else (2*(i+1)-1)/(2*(i+1))\n",
    "    c[i] = 1-a[i]\n",
    "    b[i] = 2\n",
    "    d[i] = np.cos((2*np.pi*(i+1)**2)/(n**2))\n"
   ]
  },
  {
   "cell_type": "code",
   "execution_count": 568,
   "metadata": {},
   "outputs": [
    {
     "data": {
      "text/plain": [
       "(array([0.25      , 0.375     , 0.83333333]),\n",
       " array([2., 2., 2.]),\n",
       " array([0.75      , 0.625     , 0.16666667]),\n",
       " array([ 0.76604444, -0.93969262,  1.        ]))"
      ]
     },
     "execution_count": 568,
     "metadata": {},
     "output_type": "execute_result"
    }
   ],
   "source": [
    "a,b,c,d"
   ]
  },
  {
   "cell_type": "code",
   "execution_count": 569,
   "metadata": {},
   "outputs": [
    {
     "data": {
      "text/plain": [
       "([0, 0, 0],\n",
       " array([ 0.57278799, -0.57724406]),\n",
       " array([[2.        , 0.75      , 0.25      ],\n",
       "        [0.375     , 2.        , 0.625     ],\n",
       "        [0.16666667, 0.83333333, 2.        ]]))"
      ]
     },
     "execution_count": 569,
     "metadata": {},
     "output_type": "execute_result"
    }
   ],
   "source": [
    "sistemaTridiagCiclico(a,b,c,d)"
   ]
  },
  {
   "cell_type": "code",
   "execution_count": 558,
   "metadata": {},
   "outputs": [],
   "source": [
    "n = 3\n",
    "a=np.zeros(n)\n",
    "b=np.zeros(n)\n",
    "c=np.zeros(n)\n",
    "d=np.zeros(n)\n",
    "for i in range(n):\n",
    "    a[i] = (2*(i+1)-1)/(4*(i+1)) if (i+1) != n else (2*(i+1)-1)/(2*(i+1))\n",
    "    c[i] = 1-a[i]\n",
    "    b[i] = 2\n",
    "    d[i] = np.cos((2*np.pi*(i+1)**2)/(n**2))"
   ]
  },
  {
   "cell_type": "code",
   "execution_count": 536,
   "metadata": {},
   "outputs": [],
   "source": [
    "n = len(b)\n",
    "\n",
    "# Constroi matriz A a partir de a,b e c\n",
    "A = compoeMatrizTridiagCircular(a,b,c)\n",
    "\n",
    "# Constroi submatriz principal T\n",
    "T = np.delete(A,n-1,1)\n",
    "T = np.delete(T,n-1,0)\n",
    "\n",
    "# Constroi v\n",
    "v = [0]*n\n",
    "v[0] = a[0]\n",
    "v[-1] = c[n-2]\n",
    "\n",
    "# Resolve sistema Ty=d\n",
    "y = sistemaTridiagLU(T,d)\n",
    "\n",
    "# Resolve sistema Tz=v\n",
    "z = sistemaTridiagLU(T,v)\n",
    "\n",
    "# Solução do sistema\n",
    "x = [0]*n\n",
    "for i in range(n):\n",
    "    x[i] = (d[i]-c[i]*y[0]-a[i]*y[i-1])/(b[i]-c[i]*z[0]-a[i]*z[i-1])"
   ]
  },
  {
   "cell_type": "code",
   "execution_count": 538,
   "metadata": {},
   "outputs": [
    {
     "data": {
      "text/plain": [
       "(array([ 0.76604444, -0.93969262,  1.        ]),\n",
       " array([0.75      , 0.625     , 0.16666667]),\n",
       " array([0.25      , 0.375     , 0.83333333]),\n",
       " [0.6015081282224908, -0.5826290844346712],\n",
       " array([2., 2., 2.]),\n",
       " [0.13445378151260504, -0.025210084033613446])"
      ]
     },
     "execution_count": 538,
     "metadata": {},
     "output_type": "execute_result"
    }
   ],
   "source": [
    "d,c,a,y,b,z"
   ]
  },
  {
   "cell_type": "code",
   "execution_count": 539,
   "metadata": {},
   "outputs": [],
   "source": [
    "i=0\n",
    "x = [0]*n"
   ]
  },
  {
   "cell_type": "code",
   "execution_count": 540,
   "metadata": {},
   "outputs": [
    {
     "data": {
      "text/plain": [
       "(0.766044443118978,\n",
       " 0.75,\n",
       " 0.25,\n",
       " -0.5826290844346712,\n",
       " 2.0,\n",
       " -0.025210084033613446,\n",
       " 0.6015081282224908,\n",
       " 0.13445378151260504)"
      ]
     },
     "execution_count": 540,
     "metadata": {},
     "output_type": "execute_result"
    }
   ],
   "source": [
    "de=d[i]\n",
    "ce=c[i]\n",
    "ae=a[i]\n",
    "ye=y[i-1]\n",
    "be=b[i]\n",
    "ze=z[i-1]\n",
    "y0=y[0]\n",
    "z0=z[0]\n",
    "de,ce,ae,ye,be,ze,y0,z0"
   ]
  },
  {
   "cell_type": "code",
   "execution_count": 530,
   "metadata": {},
   "outputs": [
    {
     "data": {
      "text/plain": [
       "[0.24171071025019866, 0, 0]"
      ]
     },
     "execution_count": 530,
     "metadata": {},
     "output_type": "execute_result"
    }
   ],
   "source": [
    "x[i] = (d[i]-c[i]*y[0]-a[i]*y[i-1])/(b[i]-c[i]*z[0]-a[i]*z[i-1])\n",
    "x"
   ]
  },
  {
   "cell_type": "code",
   "execution_count": null,
   "metadata": {},
   "outputs": [],
   "source": []
  }
 ],
 "metadata": {
  "interpreter": {
   "hash": "ef0a5c63dcd65a88e4a38abe4cf0f551944fa85b93004240d0d52bcbb8465806"
  },
  "kernelspec": {
   "display_name": "Python 3.9.12 64-bit (windows store)",
   "language": "python",
   "name": "python3"
  },
  "language_info": {
   "codemirror_mode": {
    "name": "ipython",
    "version": 3
   },
   "file_extension": ".py",
   "mimetype": "text/x-python",
   "name": "python",
   "nbconvert_exporter": "python",
   "pygments_lexer": "ipython3",
   "version": "3.10.1"
  },
  "orig_nbformat": 4
 },
 "nbformat": 4,
 "nbformat_minor": 2
}
