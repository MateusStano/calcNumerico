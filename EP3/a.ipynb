{
 "cells": [
  {
   "cell_type": "code",
   "execution_count": 1,
   "metadata": {},
   "outputs": [],
   "source": [
    "from functions import *\n",
    "import numpy as np"
   ]
  },
  {
   "cell_type": "code",
   "execution_count": 2,
   "metadata": {},
   "outputs": [],
   "source": [
    "%load_ext autoreload\n",
    "%autoreload 2"
   ]
  },
  {
   "cell_type": "code",
   "execution_count": 3,
   "metadata": {},
   "outputs": [],
   "source": [
    "n10 = [\n",
    "    (0.1488743389816312108848260, 0.2955242247147528701738930),\n",
    "    (0.4333953941292471907992659, 0.2692667193099963550912269),\n",
    "    (0.6794095682990244062343274, 0.2190863625159820439955349),\n",
    "    (0.8650633666889845107320967, 0.1494513491505805931457763),\n",
    "    (0.9739065285171717200779640, 0.0666713443086881375935688),\n",
    "    (-0.1488743389816312108848260, 0.2955242247147528701738930),\n",
    "    (-0.4333953941292471907992659, 0.2692667193099963550912269),\n",
    "    (-0.6794095682990244062343274, 0.2190863625159820439955349),\n",
    "    (-0.8650633666889845107320967, 0.1494513491505805931457763),\n",
    "    (-0.9739065285171717200779640, 0.0666713443086881375935688),\n",
    "]"
   ]
  },
  {
   "cell_type": "code",
   "execution_count": 149,
   "metadata": {},
   "outputs": [],
   "source": [
    "def produto_interno_φ(k, q, xi, h, i, j, pontos_e_pesos_φ):\n",
    "    # Calcula os produtos internos de φij\n",
    "\n",
    "    if abs(i-j)>1:\n",
    "        return 0\n",
    "    else:\n",
    "        # Multiplicação de φi e φj para integral definida em [x-1,x]\n",
    "        φi_φj1 = lambda x, y: k(x) * (1/h) * (1/h) + q(x) * (x-xi[i-1])/h * (x-xi[j-1])/h\n",
    "        # Multiplicação de φi e φj para integral definida em [x,x+1]\n",
    "        φi_φj2 = lambda x, y: k(x) * (-1/h) * (-1/h) + q(x) * (xi[i+1]-x)/h * (xi[j+1]-x)/h\n",
    "        \n",
    "        # Faz a integral definida em [x-1,x]\n",
    "        integral1 = integral_dupla(φi_φj1, xi[i-1], xi[i], pontos_e_pesos_φ)\n",
    "\n",
    "        # Faz a integral definida em [x,x+1]\n",
    "        integral2 = integral_dupla(φi_φj2, xi[i], xi[i+1], pontos_e_pesos_φ)\n",
    "\n",
    "        return integral1 + integral2\n"
   ]
  },
  {
   "cell_type": "code",
   "execution_count": 154,
   "metadata": {},
   "outputs": [],
   "source": [
    "def φ_xi(i,xi,h):\n",
    "    φ1 = lambda x: (x-xi[i-1])/h\n",
    "    φ2 = lambda x: (xi[i+1]-x)/h\n",
    "    return φ1, φ2\n"
   ]
  },
  {
   "cell_type": "code",
   "execution_count": 145,
   "metadata": {},
   "outputs": [],
   "source": [
    "def produto_interno_f_φ(f,xi,i,h,pontos_e_pesos_f_φ):\n",
    "    # Calcula os produtos internos entre f(x) e φ(x)\n",
    "\n",
    "    # Multiplica f(x) por φ(x) para integral definida em [x-1,x]\n",
    "    f_φ1 = lambda x, y: (x - xi[i-1])/h * f(x)\n",
    "\n",
    "    # Multiplica f(x) por φ(x) para integral definida em [x,x+1]\n",
    "    f_φ2 = lambda x, y: (xi[i+1] - x)/h * f(x)\n",
    "\n",
    "    # Faz a integral definida em [x-1,x]\n",
    "    integral1 = integral_dupla(f_φ1, xi[i-1], xi[i], pontos_e_pesos_f_φ)\n",
    "\n",
    "    # Faz a integral definida em [x,x+1]\n",
    "    integral2 = integral_dupla(f_φ2, xi[i], xi[i+1], pontos_e_pesos_f_φ)\n",
    "\n",
    "    return integral1 + integral2"
   ]
  },
  {
   "cell_type": "code",
   "execution_count": 160,
   "metadata": {},
   "outputs": [
    {
     "data": {
      "text/plain": [
       "array([[10., 10.,  0.,  0.],\n",
       "       [10., 10., 10.,  0.],\n",
       "       [ 0., 10., 10., 10.],\n",
       "       [ 0.,  0., 10., 10.]])"
      ]
     },
     "execution_count": 160,
     "metadata": {},
     "output_type": "execute_result"
    }
   ],
   "source": [
    "def monta_sistema_tridigonal(n, pontos_e_pesos_φ):\n",
    "    A = np.zeros((n, n), dtype=np.float64)\n",
    "    h = 1/(n+1)\n",
    "    xi = [i*h for i in range(n+2)]\n",
    "    for i in range(n):\n",
    "        for j in range(n):\n",
    "            A[i][j] = produto_interno_φ(lambda x: 1, lambda x: 0, xi, h, i+1, j+1, pontos_e_pesos_φ)\n",
    "    return A\n",
    "\n",
    "monta_sistema_tridigonal(4,n10)"
   ]
  },
  {
   "cell_type": "code",
   "execution_count": null,
   "metadata": {},
   "outputs": [],
   "source": [
    "def produto_interno_φ(k, q, xi, h, i, j, pontos_e_pesos_φ):\n",
    "    # Calcula os produtos internos de φij\n",
    "\n",
    "    if abs(i-j)>1:\n",
    "        return 0\n",
    "    else:\n",
    "        # Multiplicação de φi e φj para integral definida em [x-1,x]\n",
    "        φi_φj1 = lambda x, y: k(x) * (1/h) * (1/h) + q(x) * (x-xi[i-1])/h * (x-xi[j-1])/h\n",
    "        # Multiplicação de φi e φj para integral definida em [x,x+1]\n",
    "        φi_φj2 = lambda x, y: k(x) * (-1/h) * (-1/h) + q(x) * (xi[i+1]-x)/h * (xi[j+1]-x)/h\n",
    "        \n",
    "        # Faz a integral definida em [x-1,x]\n",
    "        integral1 = integral_dupla(φi_φj1, xi[i-1], xi[i], pontos_e_pesos_φ)\n",
    "\n",
    "        # Faz a integral definida em [x,x+1]\n",
    "        integral2 = integral_dupla(φi_φj2, xi[i], xi[i+1], pontos_e_pesos_φ)\n",
    "\n",
    "        return integral1 + integral2\n"
   ]
  },
  {
   "cell_type": "code",
   "execution_count": 3,
   "metadata": {},
   "outputs": [],
   "source": [
    "def calcula_produto_interno_phis_diagonal_principal(\n",
    "    k, q, past_xi, current_xi, next_xi, h, pontos_e_pesos_φ\n",
    "):\n",
    "\n",
    "    # Calcula o produto interno de φi e φi\n",
    "    φi_φi_1 = lambda x, y: k(x, y) + (x - past_xi) ** 2 * q(x, y)\n",
    "    φi_φi_2 = lambda x, y: k(x, y) + (next_xi - x) ** 2 * q(x, y)\n",
    "    return (1 / h) ** 2 * (\n",
    "        integral_dupla(φi_φi_1, past_xi, current_xi, pontos_e_pesos_φ)\n",
    "        + integral_dupla(φi_φi_2, current_xi, next_xi, pontos_e_pesos_φ)\n",
    "    )\n",
    "\n",
    "\n",
    "def calcula_produto_interno_phis_diagonal_secundaria_inferior(\n",
    "    k, q, past_xi, current_xi, h, pontos_e_pesos_φ\n",
    "):\n",
    "\n",
    "    # Calcula o produto interno de φi e φi+1\n",
    "    φi_φj = lambda x, y: k(x, y) + (current_xi - x) * (x - past_xi) * q(x, y)\n",
    "    return -((1 / h) ** 2) * integral_dupla(\n",
    "        φi_φj, past_xi, current_xi, pontos_e_pesos_φ\n",
    "    )\n",
    "\n",
    "\n",
    "def calcula_produto_interno_phis_diagonal_secundaria_superior(\n",
    "    k, q, current_xi, next_xi, h, pontos_e_pesos_φ\n",
    "):\n",
    "\n",
    "    # Calcula o produto interno de φi e φi-1\n",
    "    φj_φi = lambda x, y: k(x, y) + (next_xi - x) * (x - current_xi) * q(x, y)\n",
    "    return -((1 / h) ** 2) * integral_dupla(\n",
    "        φj_φi, current_xi, next_xi, pontos_e_pesos_φ\n",
    "    )\n",
    "\n",
    "\n",
    "def calcula_produto_interno_f_phi(\n",
    "    f, past_xi, current_xi, next_xi, h, pontos_e_pesos_φ\n",
    "):\n",
    "\n",
    "    # Calcula o produto interno de f(x) e φi\n",
    "    f_φi1 = lambda x, y: (x - past_xi) * f(x,y)\n",
    "    f_φi2 = lambda x, y: (next_xi - x) * f(x,y)\n",
    "    return (\n",
    "        1\n",
    "        / h\n",
    "        * (\n",
    "            integral_dupla(f_φi1, past_xi, current_xi, pontos_e_pesos_φ)\n",
    "            + integral_dupla(f_φi2, current_xi, next_xi, pontos_e_pesos_φ)\n",
    "        )\n",
    "    )\n"
   ]
  },
  {
   "cell_type": "code",
   "execution_count": 4,
   "metadata": {},
   "outputs": [],
   "source": [
    "# Resolve sistema tridiagonais\n",
    "def sistemaTridiagLU(a, b, c, d, n):\n",
    "    # Calcula vetores u e l\n",
    "    u = [b[0]]\n",
    "    l = []\n",
    "    for i in range(1, n):\n",
    "        l.append(a[i] / u[i - 1])\n",
    "        u.append(b[i] - l[i - 1] * c[i - 1])\n",
    "\n",
    "    # Calcula solução de L*y = d\n",
    "    y = [d[0]]\n",
    "    for i in range(1, n):\n",
    "        y.append(d[i] - l[i - 1] * y[i - 1])\n",
    "\n",
    "    # Calcula solução de U*x = y\n",
    "    x = [0] * n\n",
    "    x[n - 1] = y[n - 1] / u[n - 1]\n",
    "    for i in reversed(range(0, n - 1)):\n",
    "        x[i] = (y[i] - c[i] * x[i + 1]) / u[i]\n",
    "\n",
    "    return x"
   ]
  },
  {
   "cell_type": "code",
   "execution_count": 4,
   "metadata": {},
   "outputs": [
    {
     "ename": "NameError",
     "evalue": "name 'erro' is not defined",
     "output_type": "error",
     "traceback": [
      "\u001b[1;31m---------------------------------------------------------------------------\u001b[0m",
      "\u001b[1;31mNameError\u001b[0m                                 Traceback (most recent call last)",
      "\u001b[1;32mc:\\Mateus\\GitHub\\calcNumerico\\EP3\\a.ipynb Célula: 11\u001b[0m in \u001b[0;36m<cell line: 26>\u001b[1;34m()\u001b[0m\n\u001b[0;32m     <a href='vscode-notebook-cell:/c%3A/Mateus/GitHub/calcNumerico/EP3/a.ipynb#ch0000010?line=35'>36</a>\u001b[0m xi \u001b[39m=\u001b[39m [i\u001b[39m*\u001b[39mh \u001b[39mfor\u001b[39;00m i \u001b[39min\u001b[39;00m \u001b[39mrange\u001b[39m(n\u001b[39m+\u001b[39m\u001b[39m2\u001b[39m)]\n\u001b[0;32m     <a href='vscode-notebook-cell:/c%3A/Mateus/GitHub/calcNumerico/EP3/a.ipynb#ch0000010?line=36'>37</a>\u001b[0m u_exato \u001b[39m=\u001b[39m \u001b[39mlambda\u001b[39;00m x: (x\u001b[39m-\u001b[39m\u001b[39m1\u001b[39m)\u001b[39m*\u001b[39m(np\u001b[39m.\u001b[39mexp(\u001b[39m-\u001b[39mx)\u001b[39m-\u001b[39m\u001b[39m1\u001b[39m)\n\u001b[1;32m---> <a href='vscode-notebook-cell:/c%3A/Mateus/GitHub/calcNumerico/EP3/a.ipynb#ch0000010?line=37'>38</a>\u001b[0m \u001b[39mprint\u001b[39m(erro(x, u_barra(x,alphas,xi,h),u_exato))\n",
      "\u001b[1;31mNameError\u001b[0m: name 'erro' is not defined"
     ]
    }
   ],
   "source": [
    "def sol_sistema_linear_tridiagonal(f, k, q, n, pontos_e_pesos_φ):\n",
    "    A = np.zeros((n, n), dtype=np.float64)\n",
    "    h = 1/(n+1)\n",
    "    xi = [i*h for i in range(n+2)]\n",
    "    \n",
    "    # Vetores do sistema linear (tridigonal)\n",
    "    b=[] # diagonal principal\n",
    "    a=[] # diagonal secundária inferior\n",
    "    c=[] # diagonal secundária superior\n",
    "    d=[] # vetor de termos independentes\n",
    "    for i in range(n):\n",
    "        past_xi = xi[i]\n",
    "        current_xi=xi[i+1]\n",
    "        next_xi=xi[i+2]\n",
    "\n",
    "        b.append(calcula_produto_interno_phis_diagonal_principal(k,q,past_xi,current_xi,next_xi,h,pontos_e_pesos_φ))\n",
    "        a.append(calcula_produto_interno_phis_diagonal_secundaria_inferior(k,q,past_xi,current_xi,h,pontos_e_pesos_φ))\n",
    "        c.append(calcula_produto_interno_phis_diagonal_secundaria_superior(k,q,current_xi,next_xi,h,pontos_e_pesos_φ))\n",
    "        d.append(calcula_produto_interno_f_phi(f, past_xi, current_xi, next_xi, h, pontos_e_pesos_φ))\n",
    "\n",
    "    # Resolve o sistema linear\n",
    "    alphas = np.array(sistemaTridiagLU(a, b, c, d, n))\n",
    "\n",
    "    return alphas, \n",
    "\n",
    "for n in [7,15,31,63,127,255]:\n",
    "    n=n\n",
    "    L=1\n",
    "    f=lambda x,y: np.exp(x)+1\n",
    "    k=lambda x,y: np.exp(x)\n",
    "    q=lambda x,y: 0\n",
    "    alphas = sol_sistema_linear_tridiagonal(f, k, q, n, n10)\n",
    "\n",
    "    x=0.1\n",
    "    h = L/(n+1)\n",
    "    xi = [i*h for i in range(n+2)]\n",
    "    u_exato = lambda x: (x-1)*(np.exp(-x)-1)\n",
    "    print(erro(x, u_barra(x,alphas,xi,h),u_exato))"
   ]
  },
  {
   "cell_type": "code",
   "execution_count": 13,
   "metadata": {},
   "outputs": [
    {
     "name": "stdout",
     "output_type": "stream",
     "text": [
      "(array([0.00343323, 0.01196289, 0.02320862, 0.03515625, 0.04615784,\n",
      "       0.05493164, 0.06056213, 0.0625    , 0.06056213, 0.05493164,\n",
      "       0.04615784, 0.03515625, 0.02320862, 0.01196289, 0.00343323]), [-15.999999999999996, -15.999999999999996, -15.999999999999996, -15.999999999999996, -15.999999999999996, -15.999999999999996, -15.999999999999996, -15.999999999999996, -15.999999999999996, -15.999999999999996, -15.999999999999996, -15.999999999999996, -15.999999999999996, -15.999999999999996, -15.999999999999996], [31.999999999999993, 31.999999999999993, 31.999999999999993, 31.999999999999993, 31.999999999999993, 31.999999999999993, 31.999999999999993, 31.999999999999993, 31.999999999999993, 31.999999999999993, 31.999999999999993, 31.999999999999993, 31.999999999999993, 31.999999999999993, 31.999999999999993], [-15.999999999999996, -15.999999999999996, -15.999999999999996, -15.999999999999996, -15.999999999999996, -15.999999999999996, -15.999999999999996, -15.999999999999996, -15.999999999999996, -15.999999999999996, -15.999999999999996, -15.999999999999996, -15.999999999999996, -15.999999999999996, -15.999999999999996], [-0.08154296875, -0.04345703125, -0.011230468750000003, 0.015136718749999991, 0.03564453124999999, 0.05029296874999999, 0.05908203125, 0.06201171874999999, 0.05908203124999999, 0.05029296874999999, 0.03564453125000001, 0.015136718750000007, -0.011230468749999998, -0.04345703125, -0.08154296875])\n"
     ]
    }
   ],
   "source": [
    "def sol_sistema_linear_tridiagonal(f, k, q, n, pontos_e_pesos_φ, L=1):\n",
    "    A = np.zeros((n, n), dtype=np.float64)\n",
    "    h = L / (n + 1)\n",
    "    xi = [i * h for i in range(n + 2)]\n",
    "\n",
    "    # Vetores do sistema linear (tridigonal)\n",
    "    b = []  # diagonal principal\n",
    "    a = []  # diagonal secundária inferior\n",
    "    c = []  # diagonal secundária superior\n",
    "    d = []  # vetor de termos independentes\n",
    "    for i in range(n):\n",
    "        past_xi = xi[i]\n",
    "        current_xi = xi[i + 1]\n",
    "        next_xi = xi[i + 2]\n",
    "\n",
    "        b.append(\n",
    "            calcula_produto_interno_phis_diagonal_principal(\n",
    "                k, q, past_xi, current_xi, next_xi, h, pontos_e_pesos_φ\n",
    "            )\n",
    "        )\n",
    "        a.append(\n",
    "            calcula_produto_interno_phis_diagonal_secundaria_inferior(\n",
    "                k, q, past_xi, current_xi, h, pontos_e_pesos_φ\n",
    "            )\n",
    "        )\n",
    "        c.append(\n",
    "            calcula_produto_interno_phis_diagonal_secundaria_superior(\n",
    "                k, q, current_xi, next_xi, h, pontos_e_pesos_φ\n",
    "            )\n",
    "        )\n",
    "        d.append(\n",
    "            calcula_produto_interno_f_phi(\n",
    "                f, past_xi, current_xi, next_xi, h, pontos_e_pesos_φ\n",
    "            )\n",
    "        )\n",
    "\n",
    "    # Resolve o sistema linear\n",
    "    alphas = np.array(sistemaTridiagLU(a, b, c, d, n))\n",
    "\n",
    "    return alphas, a, b, c, d\n",
    "\n",
    "n=15\n",
    "f = lambda x, y: 12 * x * (1 - x) - 2  # função f(x)\n",
    "k = lambda x, y: 1  # função k(x)\n",
    "q = lambda x, y: 0  # função q(x)\n",
    "u_exato = lambda x: x**2 * (1 - x) ** 2  # solução exata\n",
    "print(sol_sistema_linear_tridiagonal(\n",
    "    f, k, q, n, n10\n",
    ") ) # solução do sistema"
   ]
  },
  {
   "cell_type": "code",
   "execution_count": 9,
   "metadata": {},
   "outputs": [],
   "source": [
    "def phi(x,xi,i,h):\n",
    "    if xi[i-1]<x<=xi[i]:\n",
    "        return (x-xi[i-1])/h\n",
    "    elif xi[i]<x<=xi[i+1]:\n",
    "        return (xi[i+1]-x)/h\n",
    "    else:\n",
    "        return 0\n",
    "\n",
    "def u_barra(x,alphas,xi,h):\n",
    "    u_barra = 0\n",
    "    for i in range(len(alphas)):\n",
    "        u_barra += alphas[i] * phi(x,xi,i+1,h)\n",
    "    return u_barra\n",
    "\n",
    "def erro(x, u_barra, u_exato):\n",
    "    return u_barra-u_exato(x)"
   ]
  },
  {
   "cell_type": "code",
   "execution_count": null,
   "metadata": {},
   "outputs": [],
   "source": [
    "[-15.999999999999996, -15.999999999999996, -15.999999999999996, -15.999999999999996, -15.999999999999996, -15.999999999999996, -15.999999999999996, -15.999999999999996, -15.999999999999996, -15.999999999999996, -15.999999999999996, -15.999999999999996, -15.999999999999996, -15.999999999999996, -15.999999999999996],\n",
    "[31.999999999999993, 31.999999999999993, 31.999999999999993, 31.999999999999993, 31.999999999999993, 31.999999999999993, 31.999999999999993, 31.999999999999993, 31.999999999999993, 31.999999999999993, 31.999999999999993, 31.999999999999993, 31.999999999999993, 31.999999999999993, 31.999999999999993],\n",
    "[-15.999999999999996, -15.999999999999996, -15.999999999999996, -15.999999999999996, -15.999999999999996, -15.999999999999996, -15.999999999999996, -15.999999999999996, -15.999999999999996, -15.999999999999996, -15.999999999999996, -15.999999999999996, -15.999999999999996, -15.999999999999996, -15.999999999999996], \n",
    "[-0.08154296875, -0.04345703125, -0.011230468750000003, 0.015136718749999991, 0.03564453124999999, 0.05029296874999999, 0.05908203125, 0.06201171874999999, 0.05908203124999999, 0.05029296874999999, 0.03564453125000001, 0.015136718750000007, -0.011230468749999998, -0.04345703125, -0.08154296875]"
   ]
  },
  {
   "cell_type": "code",
   "execution_count": 16,
   "metadata": {},
   "outputs": [
    {
     "data": {
      "text/plain": [
       "[0.46874999999999967,\n",
       " 0.8749999999999993,\n",
       " 1.218749999999999,\n",
       " 1.4999999999999984,\n",
       " 1.7187499999999982,\n",
       " 1.874999999999998,\n",
       " 1.9687499999999978,\n",
       " 1.9999999999999976,\n",
       " 1.968749999999998,\n",
       " 1.8749999999999982,\n",
       " 1.7187499999999987,\n",
       " 1.499999999999999,\n",
       " 1.2187499999999991,\n",
       " 0.8749999999999993,\n",
       " 0.46874999999999967]"
      ]
     },
     "execution_count": 16,
     "metadata": {},
     "output_type": "execute_result"
    }
   ],
   "source": [
    "b=[31.999999999999993, 31.999999999999993, 31.999999999999993, 31.999999999999993, 31.999999999999993, 31.999999999999993, 31.999999999999993, 31.999999999999993, 31.999999999999993, 31.999999999999993, 31.999999999999993, 31.999999999999993, 31.999999999999993, 31.999999999999993, 31.999999999999993]\n",
    "a=[-15.999999999999996, -15.999999999999996, -15.999999999999996, -15.999999999999996, -15.999999999999996, -15.999999999999996, -15.999999999999996, -15.999999999999996, -15.999999999999996, -15.999999999999996, -15.999999999999996, -15.999999999999996, -15.999999999999996, -15.999999999999996, -15.999999999999996]\n",
    "c=[-15.999999999999996, -15.999999999999996, -15.999999999999996, -15.999999999999996, -15.999999999999996, -15.999999999999996, -15.999999999999996, -15.999999999999996, -15.999999999999996, -15.999999999999996, -15.999999999999996, -15.999999999999996, -15.999999999999996, -15.999999999999996, -15.999999999999996]\n",
    "d=[1,1,1,1,1,1,1,1,1,1,1,1,1,1,1]\n",
    "\n",
    "alphas = sistemaTridiagLU(a,b,c,d,15)\n",
    "alphas"
   ]
  },
  {
   "cell_type": "code",
   "execution_count": 20,
   "metadata": {},
   "outputs": [],
   "source": [
    "def phi(x, xi, i, h):\n",
    "    if xi[i - 1] < x <= xi[i]:\n",
    "        return (x - xi[i - 1]) / h\n",
    "    elif xi[i] < x <= xi[i + 1]:\n",
    "        return (xi[i + 1] - x) / h\n",
    "    else:\n",
    "        return 0\n",
    "\n",
    "x=0.25\n",
    "u_barra = 0\n",
    "for j in range(len(alphas)):\n",
    "    u_barra += alphas[j] * phi(x, xi, j + 1, h)\n",
    "u_barra"
   ]
  },
  {
   "cell_type": "code",
   "execution_count": 17,
   "metadata": {},
   "outputs": [
    {
     "data": {
      "text/plain": [
       "[0.0,\n",
       " 0.0625,\n",
       " 0.125,\n",
       " 0.1875,\n",
       " 0.25,\n",
       " 0.3125,\n",
       " 0.375,\n",
       " 0.4375,\n",
       " 0.5,\n",
       " 0.5625,\n",
       " 0.625,\n",
       " 0.6875,\n",
       " 0.75,\n",
       " 0.8125,\n",
       " 0.875,\n",
       " 0.9375,\n",
       " 1.0]"
      ]
     },
     "execution_count": 17,
     "metadata": {},
     "output_type": "execute_result"
    }
   ],
   "source": [
    "L = 1\n",
    "h = L / (n + 1)\n",
    "xi = [i * h for i in range(n + 2)]\n",
    "xi"
   ]
  },
  {
   "cell_type": "code",
   "execution_count": null,
   "metadata": {},
   "outputs": [],
   "source": []
  }
 ],
 "metadata": {
  "kernelspec": {
   "display_name": "Python 3.10.5 64-bit",
   "language": "python",
   "name": "python3"
  },
  "language_info": {
   "codemirror_mode": {
    "name": "ipython",
    "version": 3
   },
   "file_extension": ".py",
   "mimetype": "text/x-python",
   "name": "python",
   "nbconvert_exporter": "python",
   "pygments_lexer": "ipython3",
   "version": "3.10.5"
  },
  "orig_nbformat": 4,
  "vscode": {
   "interpreter": {
    "hash": "26de051ba29f2982a8de78e945f0abaf191376122a1563185a90213a26c5da77"
   }
  }
 },
 "nbformat": 4,
 "nbformat_minor": 2
}
