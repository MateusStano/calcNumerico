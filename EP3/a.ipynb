{
 "cells": [
  {
   "cell_type": "code",
   "execution_count": 1,
   "metadata": {},
   "outputs": [],
   "source": [
    "from functions import *\n",
    "import numpy as np"
   ]
  },
  {
   "cell_type": "code",
   "execution_count": 2,
   "metadata": {},
   "outputs": [],
   "source": [
    "%load_ext autoreload\n",
    "%autoreload 2"
   ]
  },
  {
   "cell_type": "code",
   "execution_count": 6,
   "metadata": {},
   "outputs": [],
   "source": [
    "n10 = [\n",
    "    (0.1488743389816312108848260, 0.2955242247147528701738930),\n",
    "    (0.4333953941292471907992659, 0.2692667193099963550912269),\n",
    "    (0.6794095682990244062343274, 0.2190863625159820439955349),\n",
    "    (0.8650633666889845107320967, 0.1494513491505805931457763),\n",
    "    (0.9739065285171717200779640, 0.0666713443086881375935688),\n",
    "    (-0.1488743389816312108848260, 0.2955242247147528701738930),\n",
    "    (-0.4333953941292471907992659, 0.2692667193099963550912269),\n",
    "    (-0.6794095682990244062343274, 0.2190863625159820439955349),\n",
    "    (-0.8650633666889845107320967, 0.1494513491505805931457763),\n",
    "    (-0.9739065285171717200779640, 0.0666713443086881375935688),\n",
    "]"
   ]
  },
  {
   "cell_type": "code",
   "execution_count": 149,
   "metadata": {},
   "outputs": [],
   "source": [
    "def produto_interno_φ(k, q, xi, h, i, j, pontos_e_pesos_φ):\n",
    "    # Calcula os produtos internos de φij\n",
    "\n",
    "    if abs(i-j)>1:\n",
    "        return 0\n",
    "    else:\n",
    "        # Multiplicação de φi e φj para integral definida em [x-1,x]\n",
    "        φi_φj1 = lambda x, y: k(x) * (1/h) * (1/h) + q(x) * (x-xi[i-1])/h * (x-xi[j-1])/h\n",
    "        # Multiplicação de φi e φj para integral definida em [x,x+1]\n",
    "        φi_φj2 = lambda x, y: k(x) * (-1/h) * (-1/h) + q(x) * (xi[i+1]-x)/h * (xi[j+1]-x)/h\n",
    "        \n",
    "        # Faz a integral definida em [x-1,x]\n",
    "        integral1 = integral_dupla(φi_φj1, xi[i-1], xi[i], pontos_e_pesos_φ)\n",
    "\n",
    "        # Faz a integral definida em [x,x+1]\n",
    "        integral2 = integral_dupla(φi_φj2, xi[i], xi[i+1], pontos_e_pesos_φ)\n",
    "\n",
    "        return integral1 + integral2\n"
   ]
  },
  {
   "cell_type": "code",
   "execution_count": 154,
   "metadata": {},
   "outputs": [],
   "source": [
    "def φ_xi(i,xi,h):\n",
    "    φ1 = lambda x: (x-xi[i-1])/h\n",
    "    φ2 = lambda x: (xi[i+1]-x)/h\n",
    "    return φ1, φ2\n"
   ]
  },
  {
   "cell_type": "code",
   "execution_count": 145,
   "metadata": {},
   "outputs": [],
   "source": [
    "def produto_interno_f_φ(f,xi,i,h,pontos_e_pesos_f_φ):\n",
    "    # Calcula os produtos internos entre f(x) e φ(x)\n",
    "\n",
    "    # Multiplica f(x) por φ(x) para integral definida em [x-1,x]\n",
    "    f_φ1 = lambda x, y: (x - xi[i-1])/h * f(x)\n",
    "\n",
    "    # Multiplica f(x) por φ(x) para integral definida em [x,x+1]\n",
    "    f_φ2 = lambda x, y: (xi[i+1] - x)/h * f(x)\n",
    "\n",
    "    # Faz a integral definida em [x-1,x]\n",
    "    integral1 = integral_dupla(f_φ1, xi[i-1], xi[i], pontos_e_pesos_f_φ)\n",
    "\n",
    "    # Faz a integral definida em [x,x+1]\n",
    "    integral2 = integral_dupla(f_φ2, xi[i], xi[i+1], pontos_e_pesos_f_φ)\n",
    "\n",
    "    return integral1 + integral2"
   ]
  },
  {
   "cell_type": "code",
   "execution_count": 160,
   "metadata": {},
   "outputs": [
    {
     "data": {
      "text/plain": [
       "array([[10., 10.,  0.,  0.],\n",
       "       [10., 10., 10.,  0.],\n",
       "       [ 0., 10., 10., 10.],\n",
       "       [ 0.,  0., 10., 10.]])"
      ]
     },
     "execution_count": 160,
     "metadata": {},
     "output_type": "execute_result"
    }
   ],
   "source": [
    "def monta_sistema_tridigonal(n, pontos_e_pesos_φ):\n",
    "    A = np.zeros((n, n), dtype=np.float64)\n",
    "    h = 1/(n+1)\n",
    "    xi = [i*h for i in range(n+2)]\n",
    "    for i in range(n):\n",
    "        for j in range(n):\n",
    "            A[i][j] = produto_interno_φ(lambda x: 1, lambda x: 0, xi, h, i+1, j+1, pontos_e_pesos_φ)\n",
    "    return A\n",
    "\n",
    "monta_sistema_tridigonal(4,n10)"
   ]
  },
  {
   "cell_type": "code",
   "execution_count": null,
   "metadata": {},
   "outputs": [],
   "source": [
    "def produto_interno_φ(k, q, xi, h, i, j, pontos_e_pesos_φ):\n",
    "    # Calcula os produtos internos de φij\n",
    "\n",
    "    if abs(i-j)>1:\n",
    "        return 0\n",
    "    else:\n",
    "        # Multiplicação de φi e φj para integral definida em [x-1,x]\n",
    "        φi_φj1 = lambda x, y: k(x) * (1/h) * (1/h) + q(x) * (x-xi[i-1])/h * (x-xi[j-1])/h\n",
    "        # Multiplicação de φi e φj para integral definida em [x,x+1]\n",
    "        φi_φj2 = lambda x, y: k(x) * (-1/h) * (-1/h) + q(x) * (xi[i+1]-x)/h * (xi[j+1]-x)/h\n",
    "        \n",
    "        # Faz a integral definida em [x-1,x]\n",
    "        integral1 = integral_dupla(φi_φj1, xi[i-1], xi[i], pontos_e_pesos_φ)\n",
    "\n",
    "        # Faz a integral definida em [x,x+1]\n",
    "        integral2 = integral_dupla(φi_φj2, xi[i], xi[i+1], pontos_e_pesos_φ)\n",
    "\n",
    "        return integral1 + integral2\n"
   ]
  },
  {
   "cell_type": "code",
   "execution_count": 3,
   "metadata": {},
   "outputs": [],
   "source": [
    "def calcula_produto_interno_phis_diagonal_principal(\n",
    "    k, q, past_xi, current_xi, next_xi, h, pontos_e_pesos_φ\n",
    "):\n",
    "\n",
    "    # Calcula o produto interno de φi e φi\n",
    "    φi_φi_1 = lambda x, y: k(x, y) + (x - past_xi) ** 2 * q(x, y)\n",
    "    φi_φi_2 = lambda x, y: k(x, y) + (next_xi - x) ** 2 * q(x, y)\n",
    "    return (1 / h) ** 2 * (\n",
    "        integral_dupla(φi_φi_1, past_xi, current_xi, pontos_e_pesos_φ)\n",
    "        + integral_dupla(φi_φi_2, current_xi, next_xi, pontos_e_pesos_φ)\n",
    "    )\n",
    "\n",
    "\n",
    "def calcula_produto_interno_phis_diagonal_secundaria_inferior(\n",
    "    k, q, past_xi, current_xi, h, pontos_e_pesos_φ\n",
    "):\n",
    "\n",
    "    # Calcula o produto interno de φi e φi+1\n",
    "    φi_φj = lambda x, y: k(x, y) + (current_xi - x) * (x - past_xi) * q(x, y)\n",
    "    return -((1 / h) ** 2) * integral_dupla(\n",
    "        φi_φj, past_xi, current_xi, pontos_e_pesos_φ\n",
    "    )\n",
    "\n",
    "\n",
    "def calcula_produto_interno_phis_diagonal_secundaria_superior(\n",
    "    k, q, current_xi, next_xi, h, pontos_e_pesos_φ\n",
    "):\n",
    "\n",
    "    # Calcula o produto interno de φi e φi-1\n",
    "    φj_φi = lambda x, y: k(x, y) + (next_xi - x) * (x - current_xi) * q(x, y)\n",
    "    return -((1 / h) ** 2) * integral_dupla(\n",
    "        φj_φi, current_xi, next_xi, pontos_e_pesos_φ\n",
    "    )\n",
    "\n",
    "\n",
    "def calcula_produto_interno_f_phi(\n",
    "    f, past_xi, current_xi, next_xi, h, pontos_e_pesos_φ\n",
    "):\n",
    "\n",
    "    # Calcula o produto interno de f(x) e φi\n",
    "    f_φi1 = lambda x, y: (x - past_xi) * f(x,y)\n",
    "    f_φi2 = lambda x, y: (next_xi - x) * f(x,y)\n",
    "    return (\n",
    "        1\n",
    "        / h\n",
    "        * (\n",
    "            integral_dupla(f_φi1, past_xi, current_xi, pontos_e_pesos_φ)\n",
    "            + integral_dupla(f_φi2, current_xi, next_xi, pontos_e_pesos_φ)\n",
    "        )\n",
    "    )\n"
   ]
  },
  {
   "cell_type": "code",
   "execution_count": 4,
   "metadata": {},
   "outputs": [],
   "source": [
    "# Resolve sistema tridiagonais\n",
    "def sistemaTridiagLU(a, b, c, d, n):\n",
    "    # Calcula vetores u e l\n",
    "    u = [b[0]]\n",
    "    l = []\n",
    "    for i in range(1, n):\n",
    "        l.append(a[i] / u[i - 1])\n",
    "        u.append(b[i] - l[i - 1] * c[i - 1])\n",
    "\n",
    "    # Calcula solução de L*y = d\n",
    "    y = [d[0]]\n",
    "    for i in range(1, n):\n",
    "        y.append(d[i] - l[i - 1] * y[i - 1])\n",
    "\n",
    "    # Calcula solução de U*x = y\n",
    "    x = [0] * n\n",
    "    x[n - 1] = y[n - 1] / u[n - 1]\n",
    "    for i in reversed(range(0, n - 1)):\n",
    "        x[i] = (y[i] - c[i] * x[i + 1]) / u[i]\n",
    "\n",
    "    return x"
   ]
  },
  {
   "cell_type": "code",
   "execution_count": 27,
   "metadata": {},
   "outputs": [
    {
     "name": "stdout",
     "output_type": "stream",
     "text": [
      "-0.0034377965259725918\n",
      "-0.0012483368487786473\n",
      "-0.00020614263558747792\n",
      "-7.748230204625284e-05\n",
      "-1.3018124052369129e-05\n",
      "-4.851056143562182e-06\n"
     ]
    }
   ],
   "source": [
    "def sol_sistema_linear_tridiagonal(f, k, q, n, pontos_e_pesos_φ):\n",
    "    A = np.zeros((n, n), dtype=np.float64)\n",
    "    h = 1/(n+1)\n",
    "    xi = [i*h for i in range(n+2)]\n",
    "    \n",
    "    # Vetores do sistema linear (tridigonal)\n",
    "    b=[] # diagonal principal\n",
    "    a=[] # diagonal secundária inferior\n",
    "    c=[] # diagonal secundária superior\n",
    "    d=[] # vetor de termos independentes\n",
    "    for i in range(n):\n",
    "        past_xi = xi[i]\n",
    "        current_xi=xi[i+1]\n",
    "        next_xi=xi[i+2]\n",
    "\n",
    "        b.append(calcula_produto_interno_phis_diagonal_principal(k,q,past_xi,current_xi,next_xi,h,pontos_e_pesos_φ))\n",
    "        a.append(calcula_produto_interno_phis_diagonal_secundaria_inferior(k,q,past_xi,current_xi,h,pontos_e_pesos_φ))\n",
    "        c.append(calcula_produto_interno_phis_diagonal_secundaria_superior(k,q,current_xi,next_xi,h,pontos_e_pesos_φ))\n",
    "        d.append(calcula_produto_interno_f_phi(f, past_xi, current_xi, next_xi, h, pontos_e_pesos_φ))\n",
    "\n",
    "    # Resolve o sistema linear\n",
    "    alphas = np.array(sistemaTridiagLU(a, b, c, d, n))\n",
    "\n",
    "    return alphas\n",
    "\n",
    "for n in [7,15,31,63,127,255]:\n",
    "    n=n\n",
    "    L=1\n",
    "    f=lambda x,y: np.exp(x)+1\n",
    "    k=lambda x,y: np.exp(x)\n",
    "    q=lambda x,y: 0\n",
    "    alphas = sol_sistema_linear_tridiagonal(f, k, q, n, n10)\n",
    "\n",
    "    x=0.1\n",
    "    h = L/(n+1)\n",
    "    xi = [i*h for i in range(n+2)]\n",
    "    u_exato = lambda x: (x-1)*(np.exp(-x)-1)\n",
    "    print(erro(x, u_barra(x,alphas,xi,h),u_exato))"
   ]
  },
  {
   "cell_type": "code",
   "execution_count": 297,
   "metadata": {},
   "outputs": [
    {
     "data": {
      "text/plain": [
       "array([0.00081491, 0.0030651 , 0.00647217, 0.01077573, 0.01573332,\n",
       "       0.02112044, 0.02673055, 0.03237509, 0.03788344, 0.04310293,\n",
       "       0.04789888, 0.05215455, 0.05577115, 0.05866788, 0.06078187,\n",
       "       0.06206822, 0.0625    , 0.06206822, 0.06078187, 0.05866788,\n",
       "       0.05577115, 0.05215455, 0.04789888, 0.04310293, 0.03788344,\n",
       "       0.03237509, 0.02673055, 0.02112044, 0.01573332, 0.01077573,\n",
       "       0.00647217, 0.0030651 , 0.00081491])"
      ]
     },
     "execution_count": 297,
     "metadata": {},
     "output_type": "execute_result"
    }
   ],
   "source": [
    "n=7\n",
    "L=1\n",
    "f=lambda x,y: \n",
    "k=lambda x,y: 1\n",
    "q=lambda x,y: 0\n",
    "alphas = sol_sistema_linear_tridiagonal(f, k, q, n, n10)\n",
    "\n",
    "x=0.1\n",
    "h = L/(n+1)\n",
    "xi = [i*h for i in range(n+2)]\n",
    "u_exato = lambda x: x**2*(1-x)**2\n",
    "erro(x, u_barra(x,alphas,xi,h),u_exato)"
   ]
  },
  {
   "cell_type": "code",
   "execution_count": 298,
   "metadata": {},
   "outputs": [
    {
     "data": {
      "text/plain": [
       "0.008193598017265236"
      ]
     },
     "execution_count": 298,
     "metadata": {},
     "output_type": "execute_result"
    }
   ],
   "source": [
    "u_barra(0.1,alphas,xi,h)"
   ]
  },
  {
   "cell_type": "code",
   "execution_count": 9,
   "metadata": {},
   "outputs": [],
   "source": [
    "def phi(x,xi,i,h):\n",
    "    if xi[i-1]<x<=xi[i]:\n",
    "        return (x-xi[i-1])/h\n",
    "    elif xi[i]<x<=xi[i+1]:\n",
    "        return (xi[i+1]-x)/h\n",
    "    else:\n",
    "        return 0\n",
    "\n",
    "def u_barra(x,alphas,xi,h):\n",
    "    u_barra = 0\n",
    "    for i in range(len(alphas)):\n",
    "        u_barra += alphas[i] * phi(x,xi,i+1,h)\n",
    "    return u_barra\n",
    "\n",
    "def erro(x, u_barra, u_exato):\n",
    "    return u_barra-u_exato(x)"
   ]
  },
  {
   "cell_type": "code",
   "execution_count": 247,
   "metadata": {},
   "outputs": [
    {
     "name": "stdout",
     "output_type": "stream",
     "text": [
      "0.125\n",
      "0.25\n",
      "0.375\n",
      "0.5\n",
      "0.625\n",
      "0.75\n",
      "0.875\n"
     ]
    }
   ],
   "source": [
    "for i in range(7):\n",
    "    print(xi[i+1])"
   ]
  },
  {
   "cell_type": "code",
   "execution_count": 165,
   "metadata": {},
   "outputs": [
    {
     "data": {
      "text/plain": [
       "[0.0, 0.2, 0.4, 0.6000000000000001, 0.8, 1.0]"
      ]
     },
     "execution_count": 165,
     "metadata": {},
     "output_type": "execute_result"
    }
   ],
   "source": [
    "xi"
   ]
  },
  {
   "cell_type": "code",
   "execution_count": 30,
   "metadata": {},
   "outputs": [
    {
     "name": "stdout",
     "output_type": "stream",
     "text": [
      "u_barra = 0.1988317873343936614816 ; u_exato = -0.0000000000000000000000; erro = 0.0000000971096521251713\n"
     ]
    }
   ],
   "source": [
    "h = 1 / (n + 1)\n",
    "xi = [i * h for i in range(n + 2)]\n",
    "erro = 0\n",
    "for x in xi:\n",
    "        u_bar = u_barra(x, alphas, xi, h)\n",
    "        if abs(u_bar - u_exato(x)) > erro:\n",
    "            u_bar_saved = u_bar\n",
    "            erro = abs(u_bar - u_exato(x))\n",
    "print(\n",
    "                f\"u_barra = {u_bar_saved:.22f} ; u_exato = {u_exato(x):.22f}; erro = {erro:.22f}\"\n",
    "            )"
   ]
  },
  {
   "cell_type": "code",
   "execution_count": null,
   "metadata": {},
   "outputs": [],
   "source": []
  }
 ],
 "metadata": {
  "kernelspec": {
   "display_name": "Python 3.10.5 64-bit",
   "language": "python",
   "name": "python3"
  },
  "language_info": {
   "codemirror_mode": {
    "name": "ipython",
    "version": 3
   },
   "file_extension": ".py",
   "mimetype": "text/x-python",
   "name": "python",
   "nbconvert_exporter": "python",
   "pygments_lexer": "ipython3",
   "version": "3.10.5"
  },
  "orig_nbformat": 4,
  "vscode": {
   "interpreter": {
    "hash": "26de051ba29f2982a8de78e945f0abaf191376122a1563185a90213a26c5da77"
   }
  }
 },
 "nbformat": 4,
 "nbformat_minor": 2
}
